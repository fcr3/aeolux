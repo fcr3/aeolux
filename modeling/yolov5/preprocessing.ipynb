{
 "cells": [
  {
   "cell_type": "markdown",
   "id": "1c21f581-24b8-497e-a104-6c79ae4d0543",
   "metadata": {},
   "source": [
    "# Splitting"
   ]
  },
  {
   "cell_type": "code",
   "execution_count": 1,
   "id": "b358e7ed-12c1-445f-bb6c-c65c7f1131bd",
   "metadata": {},
   "outputs": [],
   "source": [
    "import pandas as pd"
   ]
  },
  {
   "cell_type": "code",
   "execution_count": 2,
   "id": "2423a4b6-5006-4c1d-8196-fb2c44e28d65",
   "metadata": {},
   "outputs": [
    {
     "data": {
      "text/html": [
       "<div>\n",
       "<style scoped>\n",
       "    .dataframe tbody tr th:only-of-type {\n",
       "        vertical-align: middle;\n",
       "    }\n",
       "\n",
       "    .dataframe tbody tr th {\n",
       "        vertical-align: top;\n",
       "    }\n",
       "\n",
       "    .dataframe thead th {\n",
       "        text-align: right;\n",
       "    }\n",
       "</style>\n",
       "<table border=\"1\" class=\"dataframe\">\n",
       "  <thead>\n",
       "    <tr style=\"text-align: right;\">\n",
       "      <th></th>\n",
       "      <th>set</th>\n",
       "      <th>id</th>\n",
       "      <th>png</th>\n",
       "    </tr>\n",
       "  </thead>\n",
       "  <tbody>\n",
       "    <tr>\n",
       "      <th>0</th>\n",
       "      <td>TRAINING</td>\n",
       "      <td>97fd4f6e94b84fc564ae30aec660e443</td>\n",
       "      <td>97fd4f6e94b84fc564ae30aec660e443.png</td>\n",
       "    </tr>\n",
       "    <tr>\n",
       "      <th>1</th>\n",
       "      <td>TRAINING</td>\n",
       "      <td>37054193bd4e6a2f3ca764088913b0f0</td>\n",
       "      <td>37054193bd4e6a2f3ca764088913b0f0.png</td>\n",
       "    </tr>\n",
       "    <tr>\n",
       "      <th>2</th>\n",
       "      <td>TRAINING</td>\n",
       "      <td>62863bee894cbb15f96074e8da760b40</td>\n",
       "      <td>62863bee894cbb15f96074e8da760b40.png</td>\n",
       "    </tr>\n",
       "    <tr>\n",
       "      <th>3</th>\n",
       "      <td>TRAINING</td>\n",
       "      <td>89bab84561df6af7b88b6a7d05254725</td>\n",
       "      <td>89bab84561df6af7b88b6a7d05254725.png</td>\n",
       "    </tr>\n",
       "    <tr>\n",
       "      <th>4</th>\n",
       "      <td>TRAINING</td>\n",
       "      <td>3df005a70ab162381374fd43655aa145</td>\n",
       "      <td>3df005a70ab162381374fd43655aa145.png</td>\n",
       "    </tr>\n",
       "    <tr>\n",
       "      <th>...</th>\n",
       "      <td>...</td>\n",
       "      <td>...</td>\n",
       "      <td>...</td>\n",
       "    </tr>\n",
       "    <tr>\n",
       "      <th>4389</th>\n",
       "      <td>TEST</td>\n",
       "      <td>a8ae76a6902d594f90596f039ffca026</td>\n",
       "      <td>a8ae76a6902d594f90596f039ffca026.png</td>\n",
       "    </tr>\n",
       "    <tr>\n",
       "      <th>4390</th>\n",
       "      <td>TEST</td>\n",
       "      <td>382fde0b4f36b498850d79b00cf5593d</td>\n",
       "      <td>382fde0b4f36b498850d79b00cf5593d.png</td>\n",
       "    </tr>\n",
       "    <tr>\n",
       "      <th>4391</th>\n",
       "      <td>TEST</td>\n",
       "      <td>e282be557a81566f8ccc78271c7f2ff2</td>\n",
       "      <td>e282be557a81566f8ccc78271c7f2ff2.png</td>\n",
       "    </tr>\n",
       "    <tr>\n",
       "      <th>4392</th>\n",
       "      <td>TEST</td>\n",
       "      <td>53d4fbf11ca8be107a343df37ca9eddc</td>\n",
       "      <td>53d4fbf11ca8be107a343df37ca9eddc.png</td>\n",
       "    </tr>\n",
       "    <tr>\n",
       "      <th>4393</th>\n",
       "      <td>TEST</td>\n",
       "      <td>13776ecb39222a7aaace2d9721abebbe</td>\n",
       "      <td>13776ecb39222a7aaace2d9721abebbe.png</td>\n",
       "    </tr>\n",
       "  </tbody>\n",
       "</table>\n",
       "<p>4394 rows × 3 columns</p>\n",
       "</div>"
      ],
      "text/plain": [
       "           set                                id  \\\n",
       "0     TRAINING  97fd4f6e94b84fc564ae30aec660e443   \n",
       "1     TRAINING  37054193bd4e6a2f3ca764088913b0f0   \n",
       "2     TRAINING  62863bee894cbb15f96074e8da760b40   \n",
       "3     TRAINING  89bab84561df6af7b88b6a7d05254725   \n",
       "4     TRAINING  3df005a70ab162381374fd43655aa145   \n",
       "...        ...                               ...   \n",
       "4389      TEST  a8ae76a6902d594f90596f039ffca026   \n",
       "4390      TEST  382fde0b4f36b498850d79b00cf5593d   \n",
       "4391      TEST  e282be557a81566f8ccc78271c7f2ff2   \n",
       "4392      TEST  53d4fbf11ca8be107a343df37ca9eddc   \n",
       "4393      TEST  13776ecb39222a7aaace2d9721abebbe   \n",
       "\n",
       "                                       png  \n",
       "0     97fd4f6e94b84fc564ae30aec660e443.png  \n",
       "1     37054193bd4e6a2f3ca764088913b0f0.png  \n",
       "2     62863bee894cbb15f96074e8da760b40.png  \n",
       "3     89bab84561df6af7b88b6a7d05254725.png  \n",
       "4     3df005a70ab162381374fd43655aa145.png  \n",
       "...                                    ...  \n",
       "4389  a8ae76a6902d594f90596f039ffca026.png  \n",
       "4390  382fde0b4f36b498850d79b00cf5593d.png  \n",
       "4391  e282be557a81566f8ccc78271c7f2ff2.png  \n",
       "4392  53d4fbf11ca8be107a343df37ca9eddc.png  \n",
       "4393  13776ecb39222a7aaace2d9721abebbe.png  \n",
       "\n",
       "[4394 rows x 3 columns]"
      ]
     },
     "execution_count": 2,
     "metadata": {},
     "output_type": "execute_result"
    }
   ],
   "source": [
    "splits = pd.read_csv('../../vbd_vol/splits.csv')\n",
    "splits['id'] = splits['Image_Index'].apply(lambda x : x.split(\".\")[0])\n",
    "splits['png'] = splits['id'].apply(lambda x : x + \".png\")\n",
    "splits = splits.drop(columns=['Image_Index'])\n",
    "\n",
    "splits"
   ]
  },
  {
   "cell_type": "code",
   "execution_count": 3,
   "id": "04f49335-3429-4e99-bf02-f8bbe3ad4107",
   "metadata": {},
   "outputs": [],
   "source": [
    "png_set = set(splits['png'].values.tolist())"
   ]
  },
  {
   "cell_type": "code",
   "execution_count": 4,
   "id": "01569be5-66a1-4573-9ef4-46778ff7776d",
   "metadata": {},
   "outputs": [
    {
     "data": {
      "text/plain": [
       "15000"
      ]
     },
     "execution_count": 4,
     "metadata": {},
     "output_type": "execute_result"
    }
   ],
   "source": [
    "import os\n",
    "\n",
    "pngs = os.listdir('../../vbd_vol/pngs_512/train/')\n",
    "len(pngs)"
   ]
  },
  {
   "cell_type": "code",
   "execution_count": 5,
   "id": "171397d9-4ea8-439d-a33d-b21a786fb008",
   "metadata": {},
   "outputs": [],
   "source": [
    "in_n_out = {'in': [], 'out': []}\n",
    "for p in pngs:\n",
    "    if p in png_set:\n",
    "        in_n_out['in'].append(p)\n",
    "    else:\n",
    "        in_n_out['out'].append(p)"
   ]
  },
  {
   "cell_type": "code",
   "execution_count": 6,
   "id": "dba1f511-17e0-4fb3-bc34-7f9350a2d2b7",
   "metadata": {},
   "outputs": [
    {
     "data": {
      "text/plain": [
       "(4394, 10606, 4394)"
      ]
     },
     "execution_count": 6,
     "metadata": {},
     "output_type": "execute_result"
    }
   ],
   "source": [
    "len(in_n_out['in']), len(in_n_out['out']), splits.shape[0]"
   ]
  },
  {
   "cell_type": "code",
   "execution_count": 7,
   "id": "91236290-44a2-4d0b-a851-eb8812192974",
   "metadata": {},
   "outputs": [],
   "source": [
    "file_splits = {}\n",
    "base_path = '../vbd_vol/pngs_512/train/'\n",
    "for p in in_n_out['in']:\n",
    "    prow = splits.query(f'png == \"{p}\"')\n",
    "    prow = prow.values.flatten()\n",
    "    if prow[0] not in file_splits:\n",
    "        file_splits[prow[0]] = []\n",
    "    file_splits[prow[0]].append(os.path.join(base_path, p))"
   ]
  },
  {
   "cell_type": "code",
   "execution_count": 8,
   "id": "2553dcc4-9b13-4df0-9a7b-b5ace54be1f0",
   "metadata": {},
   "outputs": [
    {
     "data": {
      "text/plain": [
       "[('TRAINING', 2812), ('VALIDATION', 703), ('TEST', 879)]"
      ]
     },
     "execution_count": 8,
     "metadata": {},
     "output_type": "execute_result"
    }
   ],
   "source": [
    "[(k, len(v)) for k,v in file_splits.items()]"
   ]
  },
  {
   "cell_type": "code",
   "execution_count": 9,
   "id": "749d4eec-1c0b-4f59-9303-476f50bcd639",
   "metadata": {},
   "outputs": [
    {
     "data": {
      "text/html": [
       "<div>\n",
       "<style scoped>\n",
       "    .dataframe tbody tr th:only-of-type {\n",
       "        vertical-align: middle;\n",
       "    }\n",
       "\n",
       "    .dataframe tbody tr th {\n",
       "        vertical-align: top;\n",
       "    }\n",
       "\n",
       "    .dataframe thead th {\n",
       "        text-align: right;\n",
       "    }\n",
       "</style>\n",
       "<table border=\"1\" class=\"dataframe\">\n",
       "  <thead>\n",
       "    <tr style=\"text-align: right;\">\n",
       "      <th></th>\n",
       "      <th>id</th>\n",
       "      <th>png</th>\n",
       "    </tr>\n",
       "    <tr>\n",
       "      <th>set</th>\n",
       "      <th></th>\n",
       "      <th></th>\n",
       "    </tr>\n",
       "  </thead>\n",
       "  <tbody>\n",
       "    <tr>\n",
       "      <th>TEST</th>\n",
       "      <td>879</td>\n",
       "      <td>879</td>\n",
       "    </tr>\n",
       "    <tr>\n",
       "      <th>TRAINING</th>\n",
       "      <td>2812</td>\n",
       "      <td>2812</td>\n",
       "    </tr>\n",
       "    <tr>\n",
       "      <th>VALIDATION</th>\n",
       "      <td>703</td>\n",
       "      <td>703</td>\n",
       "    </tr>\n",
       "  </tbody>\n",
       "</table>\n",
       "</div>"
      ],
      "text/plain": [
       "              id   png\n",
       "set                   \n",
       "TEST         879   879\n",
       "TRAINING    2812  2812\n",
       "VALIDATION   703   703"
      ]
     },
     "execution_count": 9,
     "metadata": {},
     "output_type": "execute_result"
    }
   ],
   "source": [
    "splits.groupby('set').count()"
   ]
  },
  {
   "cell_type": "code",
   "execution_count": 78,
   "id": "d3ca4c9b-3389-4ae0-9fd0-e178665e44b2",
   "metadata": {},
   "outputs": [
    {
     "name": "stderr",
     "output_type": "stream",
     "text": [
      "  2%|▏         | 60/2812 [00:00<00:04, 591.27it/s]"
     ]
    },
    {
     "name": "stdout",
     "output_type": "stream",
     "text": [
      "Making TRAINING yolov5 folder...\n"
     ]
    },
    {
     "name": "stderr",
     "output_type": "stream",
     "text": [
      "100%|██████████| 2812/2812 [00:04<00:00, 662.28it/s]\n",
      " 11%|█         | 75/703 [00:00<00:00, 743.17it/s]"
     ]
    },
    {
     "name": "stdout",
     "output_type": "stream",
     "text": [
      "Making VALIDATION yolov5 folder...\n"
     ]
    },
    {
     "name": "stderr",
     "output_type": "stream",
     "text": [
      "100%|██████████| 703/703 [00:01<00:00, 645.74it/s]\n",
      "  9%|▉         | 78/879 [00:00<00:01, 779.82it/s]"
     ]
    },
    {
     "name": "stdout",
     "output_type": "stream",
     "text": [
      "Making TEST yolov5 folder...\n"
     ]
    },
    {
     "name": "stderr",
     "output_type": "stream",
     "text": [
      "100%|██████████| 879/879 [00:01<00:00, 683.59it/s]\n"
     ]
    }
   ],
   "source": [
    "from shutil import copyfile\n",
    "from tqdm import tqdm\n",
    "\n",
    "yolo_file_base = '../../vbd_vol/pngs_512/yolov5/images'\n",
    "for k, v in file_splits.items():\n",
    "    kpath = os.path.join(yolo_file_base, k)\n",
    "    os.makedirs(kpath, exist_ok=True)\n",
    "    \n",
    "    print(f\"Making {k} yolov5 folder...\")\n",
    "    for png in tqdm(v):\n",
    "        name = os.path.basename(png)\n",
    "        copyfile(png, os.path.join(kpath, name))"
   ]
  },
  {
   "cell_type": "code",
   "execution_count": 79,
   "id": "9c4556f7-6d72-4d73-a954-383d7ddbf7d9",
   "metadata": {},
   "outputs": [],
   "source": [
    "train_set = set(os.listdir('../../vbd_vol/pngs_512/yolov5/images/TRAINING/'))\n",
    "valid_set = set(os.listdir('../../vbd_vol/pngs_512/yolov5/images/VALIDATION/'))\n",
    "test_set = set(os.listdir('../../vbd_vol/pngs_512/yolov5/images/TEST/'))"
   ]
  },
  {
   "cell_type": "markdown",
   "id": "0f90e2a3-03f3-44d0-bbc0-a059ad810249",
   "metadata": {},
   "source": [
    "### Sanity Checks"
   ]
  },
  {
   "cell_type": "code",
   "execution_count": 80,
   "id": "f541986a-3b08-4882-9f13-42174535e88e",
   "metadata": {},
   "outputs": [
    {
     "data": {
      "text/plain": [
       "set()"
      ]
     },
     "execution_count": 80,
     "metadata": {},
     "output_type": "execute_result"
    }
   ],
   "source": [
    "train_set.intersection(valid_set)"
   ]
  },
  {
   "cell_type": "code",
   "execution_count": 81,
   "id": "2abc6568-da3b-430d-bd2d-721f38a79793",
   "metadata": {},
   "outputs": [
    {
     "data": {
      "text/plain": [
       "set()"
      ]
     },
     "execution_count": 81,
     "metadata": {},
     "output_type": "execute_result"
    }
   ],
   "source": [
    "train_set.intersection(test_set)"
   ]
  },
  {
   "cell_type": "code",
   "execution_count": 82,
   "id": "ce452530-86c1-4123-9664-9b8da307d04f",
   "metadata": {},
   "outputs": [
    {
     "data": {
      "text/plain": [
       "set()"
      ]
     },
     "execution_count": 82,
     "metadata": {},
     "output_type": "execute_result"
    }
   ],
   "source": [
    "valid_set.intersection(test_set)"
   ]
  },
  {
   "cell_type": "code",
   "execution_count": 83,
   "id": "3927139b-3f06-400d-98ff-e3cd0e0934ac",
   "metadata": {},
   "outputs": [],
   "source": [
    "sets = {\n",
    "    'TRAINING': train_set,\n",
    "    'VALIDATION': valid_set,\n",
    "    'TEST': test_set\n",
    "}\n",
    "\n",
    "num_missing = {\n",
    "    k: 0 for k,v in sets.items()\n",
    "}\n",
    "for k, v in file_splits.items():\n",
    "    for png in v:\n",
    "        # assert png in sets[k], f\"{k}: Missing: {png}\"\n",
    "        if os.path.basename(png) not in sets[k]:\n",
    "            num_missing[k] += 1"
   ]
  },
  {
   "cell_type": "code",
   "execution_count": 84,
   "id": "267cb63f-61a0-40a0-a2b9-79b16102bf5d",
   "metadata": {},
   "outputs": [
    {
     "data": {
      "text/plain": [
       "{'TRAINING': 0, 'VALIDATION': 0, 'TEST': 0}"
      ]
     },
     "execution_count": 84,
     "metadata": {},
     "output_type": "execute_result"
    }
   ],
   "source": [
    "num_missing"
   ]
  },
  {
   "cell_type": "markdown",
   "id": "7aa461df-775f-48b2-8b30-54d428325ddf",
   "metadata": {},
   "source": [
    "# Labelling"
   ]
  },
  {
   "cell_type": "code",
   "execution_count": 17,
   "id": "199aa601-6a3d-454c-9377-c8a37de48eb4",
   "metadata": {},
   "outputs": [
    {
     "data": {
      "text/html": [
       "<div>\n",
       "<style scoped>\n",
       "    .dataframe tbody tr th:only-of-type {\n",
       "        vertical-align: middle;\n",
       "    }\n",
       "\n",
       "    .dataframe tbody tr th {\n",
       "        vertical-align: top;\n",
       "    }\n",
       "\n",
       "    .dataframe thead th {\n",
       "        text-align: right;\n",
       "    }\n",
       "</style>\n",
       "<table border=\"1\" class=\"dataframe\">\n",
       "  <thead>\n",
       "    <tr style=\"text-align: right;\">\n",
       "      <th></th>\n",
       "      <th>image_id</th>\n",
       "      <th>class_name</th>\n",
       "      <th>class_id</th>\n",
       "      <th>rad_id</th>\n",
       "      <th>x_min</th>\n",
       "      <th>y_min</th>\n",
       "      <th>x_max</th>\n",
       "      <th>y_max</th>\n",
       "    </tr>\n",
       "  </thead>\n",
       "  <tbody>\n",
       "    <tr>\n",
       "      <th>0</th>\n",
       "      <td>50a418190bc3fb1ef1633bf9678929b3</td>\n",
       "      <td>No finding</td>\n",
       "      <td>14</td>\n",
       "      <td>R11</td>\n",
       "      <td>NaN</td>\n",
       "      <td>NaN</td>\n",
       "      <td>NaN</td>\n",
       "      <td>NaN</td>\n",
       "    </tr>\n",
       "    <tr>\n",
       "      <th>1</th>\n",
       "      <td>21a10246a5ec7af151081d0cd6d65dc9</td>\n",
       "      <td>No finding</td>\n",
       "      <td>14</td>\n",
       "      <td>R7</td>\n",
       "      <td>NaN</td>\n",
       "      <td>NaN</td>\n",
       "      <td>NaN</td>\n",
       "      <td>NaN</td>\n",
       "    </tr>\n",
       "    <tr>\n",
       "      <th>2</th>\n",
       "      <td>9a5094b2563a1ef3ff50dc5c7ff71345</td>\n",
       "      <td>Cardiomegaly</td>\n",
       "      <td>3</td>\n",
       "      <td>R10</td>\n",
       "      <td>691.0</td>\n",
       "      <td>1375.0</td>\n",
       "      <td>1653.0</td>\n",
       "      <td>1831.0</td>\n",
       "    </tr>\n",
       "    <tr>\n",
       "      <th>3</th>\n",
       "      <td>051132a778e61a86eb147c7c6f564dfe</td>\n",
       "      <td>Aortic enlargement</td>\n",
       "      <td>0</td>\n",
       "      <td>R10</td>\n",
       "      <td>1264.0</td>\n",
       "      <td>743.0</td>\n",
       "      <td>1611.0</td>\n",
       "      <td>1019.0</td>\n",
       "    </tr>\n",
       "    <tr>\n",
       "      <th>4</th>\n",
       "      <td>063319de25ce7edb9b1c6b8881290140</td>\n",
       "      <td>No finding</td>\n",
       "      <td>14</td>\n",
       "      <td>R10</td>\n",
       "      <td>NaN</td>\n",
       "      <td>NaN</td>\n",
       "      <td>NaN</td>\n",
       "      <td>NaN</td>\n",
       "    </tr>\n",
       "  </tbody>\n",
       "</table>\n",
       "</div>"
      ],
      "text/plain": [
       "                           image_id          class_name  class_id rad_id  \\\n",
       "0  50a418190bc3fb1ef1633bf9678929b3          No finding        14    R11   \n",
       "1  21a10246a5ec7af151081d0cd6d65dc9          No finding        14     R7   \n",
       "2  9a5094b2563a1ef3ff50dc5c7ff71345        Cardiomegaly         3    R10   \n",
       "3  051132a778e61a86eb147c7c6f564dfe  Aortic enlargement         0    R10   \n",
       "4  063319de25ce7edb9b1c6b8881290140          No finding        14    R10   \n",
       "\n",
       "    x_min   y_min   x_max   y_max  \n",
       "0     NaN     NaN     NaN     NaN  \n",
       "1     NaN     NaN     NaN     NaN  \n",
       "2   691.0  1375.0  1653.0  1831.0  \n",
       "3  1264.0   743.0  1611.0  1019.0  \n",
       "4     NaN     NaN     NaN     NaN  "
      ]
     },
     "execution_count": 17,
     "metadata": {},
     "output_type": "execute_result"
    }
   ],
   "source": [
    "labels = pd.read_csv('../../vbd_vol/train_orig.csv')\n",
    "meta = pd.read_csv('../../vbd_vol/pngs_512/train_meta.csv')\n",
    "labels.head()"
   ]
  },
  {
   "cell_type": "code",
   "execution_count": 18,
   "id": "09575b28-8516-462b-94ba-a81324b07581",
   "metadata": {},
   "outputs": [
    {
     "data": {
      "text/html": [
       "<div>\n",
       "<style scoped>\n",
       "    .dataframe tbody tr th:only-of-type {\n",
       "        vertical-align: middle;\n",
       "    }\n",
       "\n",
       "    .dataframe tbody tr th {\n",
       "        vertical-align: top;\n",
       "    }\n",
       "\n",
       "    .dataframe thead th {\n",
       "        text-align: right;\n",
       "    }\n",
       "</style>\n",
       "<table border=\"1\" class=\"dataframe\">\n",
       "  <thead>\n",
       "    <tr style=\"text-align: right;\">\n",
       "      <th></th>\n",
       "      <th>image_id</th>\n",
       "      <th>dim0</th>\n",
       "      <th>dim1</th>\n",
       "    </tr>\n",
       "  </thead>\n",
       "  <tbody>\n",
       "    <tr>\n",
       "      <th>0</th>\n",
       "      <td>4d390e07733ba06e5ff07412f09c0a92</td>\n",
       "      <td>3000</td>\n",
       "      <td>3000</td>\n",
       "    </tr>\n",
       "    <tr>\n",
       "      <th>1</th>\n",
       "      <td>289f69f6462af4933308c275d07060f0</td>\n",
       "      <td>3072</td>\n",
       "      <td>3072</td>\n",
       "    </tr>\n",
       "    <tr>\n",
       "      <th>2</th>\n",
       "      <td>68335ee73e67706aa59b8b55b54b11a4</td>\n",
       "      <td>2836</td>\n",
       "      <td>2336</td>\n",
       "    </tr>\n",
       "    <tr>\n",
       "      <th>3</th>\n",
       "      <td>7ecd6f67f649f26c05805c8359f9e528</td>\n",
       "      <td>2952</td>\n",
       "      <td>2744</td>\n",
       "    </tr>\n",
       "    <tr>\n",
       "      <th>4</th>\n",
       "      <td>2229148faa205e881cf0d932755c9e40</td>\n",
       "      <td>2880</td>\n",
       "      <td>2304</td>\n",
       "    </tr>\n",
       "  </tbody>\n",
       "</table>\n",
       "</div>"
      ],
      "text/plain": [
       "                           image_id  dim0  dim1\n",
       "0  4d390e07733ba06e5ff07412f09c0a92  3000  3000\n",
       "1  289f69f6462af4933308c275d07060f0  3072  3072\n",
       "2  68335ee73e67706aa59b8b55b54b11a4  2836  2336\n",
       "3  7ecd6f67f649f26c05805c8359f9e528  2952  2744\n",
       "4  2229148faa205e881cf0d932755c9e40  2880  2304"
      ]
     },
     "execution_count": 18,
     "metadata": {},
     "output_type": "execute_result"
    }
   ],
   "source": [
    "meta.head()"
   ]
  },
  {
   "cell_type": "code",
   "execution_count": 19,
   "id": "765de689-bde4-459e-bf90-f41799e9c46b",
   "metadata": {},
   "outputs": [
    {
     "data": {
      "text/html": [
       "<div>\n",
       "<style scoped>\n",
       "    .dataframe tbody tr th:only-of-type {\n",
       "        vertical-align: middle;\n",
       "    }\n",
       "\n",
       "    .dataframe tbody tr th {\n",
       "        vertical-align: top;\n",
       "    }\n",
       "\n",
       "    .dataframe thead th {\n",
       "        text-align: right;\n",
       "    }\n",
       "</style>\n",
       "<table border=\"1\" class=\"dataframe\">\n",
       "  <thead>\n",
       "    <tr style=\"text-align: right;\">\n",
       "      <th></th>\n",
       "      <th>image_id</th>\n",
       "      <th>dim0</th>\n",
       "      <th>dim1</th>\n",
       "      <th>class_name</th>\n",
       "      <th>class_id</th>\n",
       "      <th>rad_id</th>\n",
       "      <th>x_min</th>\n",
       "      <th>y_min</th>\n",
       "      <th>x_max</th>\n",
       "      <th>y_max</th>\n",
       "    </tr>\n",
       "  </thead>\n",
       "  <tbody>\n",
       "    <tr>\n",
       "      <th>0</th>\n",
       "      <td>4d390e07733ba06e5ff07412f09c0a92</td>\n",
       "      <td>3000</td>\n",
       "      <td>3000</td>\n",
       "      <td>No finding</td>\n",
       "      <td>14</td>\n",
       "      <td>R1</td>\n",
       "      <td>NaN</td>\n",
       "      <td>NaN</td>\n",
       "      <td>NaN</td>\n",
       "      <td>NaN</td>\n",
       "    </tr>\n",
       "    <tr>\n",
       "      <th>1</th>\n",
       "      <td>4d390e07733ba06e5ff07412f09c0a92</td>\n",
       "      <td>3000</td>\n",
       "      <td>3000</td>\n",
       "      <td>No finding</td>\n",
       "      <td>14</td>\n",
       "      <td>R14</td>\n",
       "      <td>NaN</td>\n",
       "      <td>NaN</td>\n",
       "      <td>NaN</td>\n",
       "      <td>NaN</td>\n",
       "    </tr>\n",
       "    <tr>\n",
       "      <th>2</th>\n",
       "      <td>4d390e07733ba06e5ff07412f09c0a92</td>\n",
       "      <td>3000</td>\n",
       "      <td>3000</td>\n",
       "      <td>No finding</td>\n",
       "      <td>14</td>\n",
       "      <td>R12</td>\n",
       "      <td>NaN</td>\n",
       "      <td>NaN</td>\n",
       "      <td>NaN</td>\n",
       "      <td>NaN</td>\n",
       "    </tr>\n",
       "    <tr>\n",
       "      <th>3</th>\n",
       "      <td>289f69f6462af4933308c275d07060f0</td>\n",
       "      <td>3072</td>\n",
       "      <td>3072</td>\n",
       "      <td>No finding</td>\n",
       "      <td>14</td>\n",
       "      <td>R8</td>\n",
       "      <td>NaN</td>\n",
       "      <td>NaN</td>\n",
       "      <td>NaN</td>\n",
       "      <td>NaN</td>\n",
       "    </tr>\n",
       "    <tr>\n",
       "      <th>4</th>\n",
       "      <td>289f69f6462af4933308c275d07060f0</td>\n",
       "      <td>3072</td>\n",
       "      <td>3072</td>\n",
       "      <td>No finding</td>\n",
       "      <td>14</td>\n",
       "      <td>R9</td>\n",
       "      <td>NaN</td>\n",
       "      <td>NaN</td>\n",
       "      <td>NaN</td>\n",
       "      <td>NaN</td>\n",
       "    </tr>\n",
       "  </tbody>\n",
       "</table>\n",
       "</div>"
      ],
      "text/plain": [
       "                           image_id  dim0  dim1  class_name  class_id rad_id  \\\n",
       "0  4d390e07733ba06e5ff07412f09c0a92  3000  3000  No finding        14     R1   \n",
       "1  4d390e07733ba06e5ff07412f09c0a92  3000  3000  No finding        14    R14   \n",
       "2  4d390e07733ba06e5ff07412f09c0a92  3000  3000  No finding        14    R12   \n",
       "3  289f69f6462af4933308c275d07060f0  3072  3072  No finding        14     R8   \n",
       "4  289f69f6462af4933308c275d07060f0  3072  3072  No finding        14     R9   \n",
       "\n",
       "   x_min  y_min  x_max  y_max  \n",
       "0    NaN    NaN    NaN    NaN  \n",
       "1    NaN    NaN    NaN    NaN  \n",
       "2    NaN    NaN    NaN    NaN  \n",
       "3    NaN    NaN    NaN    NaN  \n",
       "4    NaN    NaN    NaN    NaN  "
      ]
     },
     "execution_count": 19,
     "metadata": {},
     "output_type": "execute_result"
    }
   ],
   "source": [
    "big_df = meta.merge(labels, on='image_id')\n",
    "big_df.head()"
   ]
  },
  {
   "cell_type": "code",
   "execution_count": 20,
   "id": "bc94f2cb-0360-4918-8131-9d8da580d3cc",
   "metadata": {},
   "outputs": [
    {
     "data": {
      "text/plain": [
       "<matplotlib.image.AxesImage at 0x7fef9a69f7d0>"
      ]
     },
     "execution_count": 20,
     "metadata": {},
     "output_type": "execute_result"
    },
    {
     "data": {
      "image/png": "[encoded data removed]",
      "text/plain": [
       "<Figure size 432x288 with 1 Axes>"
      ]
     },
     "metadata": {
      "needs_background": "light"
     },
     "output_type": "display_data"
    }
   ],
   "source": [
    "from PIL import Image\n",
    "import numpy as np\n",
    "import matplotlib.pyplot as plt\n",
    "\n",
    "img = Image.open('../../vbd_vol/pngs_512/train/9a5094b2563a1ef3ff50dc5c7ff71345.png')\n",
    "rgbimg = Image.new(\"RGB\", img.size)\n",
    "rgbimg.paste(img)\n",
    "img_arr = np.asarray(rgbimg)\n",
    "plt.imshow(img_arr)"
   ]
  },
  {
   "cell_type": "code",
   "execution_count": 21,
   "id": "48e45dec-84f2-4e4b-86bd-9d35116e1d36",
   "metadata": {},
   "outputs": [
    {
     "data": {
      "text/plain": [
       "(512, 512, 3)"
      ]
     },
     "execution_count": 21,
     "metadata": {},
     "output_type": "execute_result"
    }
   ],
   "source": [
    "height, width, channels = img_arr.shape\n",
    "height, width, channels"
   ]
  },
  {
   "cell_type": "code",
   "execution_count": 22,
   "id": "9649123f-a8ed-43bf-b3e9-eb9fbceef981",
   "metadata": {},
   "outputs": [
    {
     "data": {
      "text/html": [
       "<div>\n",
       "<style scoped>\n",
       "    .dataframe tbody tr th:only-of-type {\n",
       "        vertical-align: middle;\n",
       "    }\n",
       "\n",
       "    .dataframe tbody tr th {\n",
       "        vertical-align: top;\n",
       "    }\n",
       "\n",
       "    .dataframe thead th {\n",
       "        text-align: right;\n",
       "    }\n",
       "</style>\n",
       "<table border=\"1\" class=\"dataframe\">\n",
       "  <thead>\n",
       "    <tr style=\"text-align: right;\">\n",
       "      <th></th>\n",
       "      <th>image_id</th>\n",
       "      <th>dim0</th>\n",
       "      <th>dim1</th>\n",
       "      <th>class_name</th>\n",
       "      <th>class_id</th>\n",
       "      <th>rad_id</th>\n",
       "      <th>x_min</th>\n",
       "      <th>y_min</th>\n",
       "      <th>x_max</th>\n",
       "      <th>y_max</th>\n",
       "    </tr>\n",
       "  </thead>\n",
       "  <tbody>\n",
       "    <tr>\n",
       "      <th>63208</th>\n",
       "      <td>9a5094b2563a1ef3ff50dc5c7ff71345</td>\n",
       "      <td>2336</td>\n",
       "      <td>2080</td>\n",
       "      <td>Cardiomegaly</td>\n",
       "      <td>3</td>\n",
       "      <td>R10</td>\n",
       "      <td>691.0</td>\n",
       "      <td>1375.0</td>\n",
       "      <td>1653.0</td>\n",
       "      <td>1831.0</td>\n",
       "    </tr>\n",
       "    <tr>\n",
       "      <th>63209</th>\n",
       "      <td>9a5094b2563a1ef3ff50dc5c7ff71345</td>\n",
       "      <td>2336</td>\n",
       "      <td>2080</td>\n",
       "      <td>Pleural effusion</td>\n",
       "      <td>10</td>\n",
       "      <td>R9</td>\n",
       "      <td>1789.0</td>\n",
       "      <td>1729.0</td>\n",
       "      <td>1875.0</td>\n",
       "      <td>1992.0</td>\n",
       "    </tr>\n",
       "    <tr>\n",
       "      <th>63210</th>\n",
       "      <td>9a5094b2563a1ef3ff50dc5c7ff71345</td>\n",
       "      <td>2336</td>\n",
       "      <td>2080</td>\n",
       "      <td>Pleural thickening</td>\n",
       "      <td>11</td>\n",
       "      <td>R9</td>\n",
       "      <td>1789.0</td>\n",
       "      <td>1729.0</td>\n",
       "      <td>1875.0</td>\n",
       "      <td>1992.0</td>\n",
       "    </tr>\n",
       "    <tr>\n",
       "      <th>63211</th>\n",
       "      <td>9a5094b2563a1ef3ff50dc5c7ff71345</td>\n",
       "      <td>2336</td>\n",
       "      <td>2080</td>\n",
       "      <td>Cardiomegaly</td>\n",
       "      <td>3</td>\n",
       "      <td>R9</td>\n",
       "      <td>692.0</td>\n",
       "      <td>1375.0</td>\n",
       "      <td>1657.0</td>\n",
       "      <td>1799.0</td>\n",
       "    </tr>\n",
       "    <tr>\n",
       "      <th>63212</th>\n",
       "      <td>9a5094b2563a1ef3ff50dc5c7ff71345</td>\n",
       "      <td>2336</td>\n",
       "      <td>2080</td>\n",
       "      <td>Cardiomegaly</td>\n",
       "      <td>3</td>\n",
       "      <td>R8</td>\n",
       "      <td>689.0</td>\n",
       "      <td>1313.0</td>\n",
       "      <td>1666.0</td>\n",
       "      <td>1763.0</td>\n",
       "    </tr>\n",
       "    <tr>\n",
       "      <th>63213</th>\n",
       "      <td>9a5094b2563a1ef3ff50dc5c7ff71345</td>\n",
       "      <td>2336</td>\n",
       "      <td>2080</td>\n",
       "      <td>Aortic enlargement</td>\n",
       "      <td>0</td>\n",
       "      <td>R9</td>\n",
       "      <td>1052.0</td>\n",
       "      <td>715.0</td>\n",
       "      <td>1299.0</td>\n",
       "      <td>966.0</td>\n",
       "    </tr>\n",
       "  </tbody>\n",
       "</table>\n",
       "</div>"
      ],
      "text/plain": [
       "                               image_id  dim0  dim1          class_name  \\\n",
       "63208  9a5094b2563a1ef3ff50dc5c7ff71345  2336  2080        Cardiomegaly   \n",
       "63209  9a5094b2563a1ef3ff50dc5c7ff71345  2336  2080    Pleural effusion   \n",
       "63210  9a5094b2563a1ef3ff50dc5c7ff71345  2336  2080  Pleural thickening   \n",
       "63211  9a5094b2563a1ef3ff50dc5c7ff71345  2336  2080        Cardiomegaly   \n",
       "63212  9a5094b2563a1ef3ff50dc5c7ff71345  2336  2080        Cardiomegaly   \n",
       "63213  9a5094b2563a1ef3ff50dc5c7ff71345  2336  2080  Aortic enlargement   \n",
       "\n",
       "       class_id rad_id   x_min   y_min   x_max   y_max  \n",
       "63208         3    R10   691.0  1375.0  1653.0  1831.0  \n",
       "63209        10     R9  1789.0  1729.0  1875.0  1992.0  \n",
       "63210        11     R9  1789.0  1729.0  1875.0  1992.0  \n",
       "63211         3     R9   692.0  1375.0  1657.0  1799.0  \n",
       "63212         3     R8   689.0  1313.0  1666.0  1763.0  \n",
       "63213         0     R9  1052.0   715.0  1299.0   966.0  "
      ]
     },
     "execution_count": 22,
     "metadata": {},
     "output_type": "execute_result"
    }
   ],
   "source": [
    "# dim0 = original height, dim1 = original width\n",
    "\n",
    "sample_labels = big_df.query(f'image_id == \"9a5094b2563a1ef3ff50dc5c7ff71345\"').copy(deep=True)\n",
    "sample_labels"
   ]
  },
  {
   "cell_type": "code",
   "execution_count": 23,
   "id": "5f9b29db-2dff-44dc-b233-f9b6cdaa653b",
   "metadata": {},
   "outputs": [
    {
     "data": {
      "text/html": [
       "<div>\n",
       "<style scoped>\n",
       "    .dataframe tbody tr th:only-of-type {\n",
       "        vertical-align: middle;\n",
       "    }\n",
       "\n",
       "    .dataframe tbody tr th {\n",
       "        vertical-align: top;\n",
       "    }\n",
       "\n",
       "    .dataframe thead th {\n",
       "        text-align: right;\n",
       "    }\n",
       "</style>\n",
       "<table border=\"1\" class=\"dataframe\">\n",
       "  <thead>\n",
       "    <tr style=\"text-align: right;\">\n",
       "      <th></th>\n",
       "      <th>x_minr</th>\n",
       "      <th>y_minr</th>\n",
       "      <th>x_maxr</th>\n",
       "      <th>y_maxr</th>\n",
       "    </tr>\n",
       "  </thead>\n",
       "  <tbody>\n",
       "    <tr>\n",
       "      <th>63208</th>\n",
       "      <td>170.092308</td>\n",
       "      <td>301.369863</td>\n",
       "      <td>406.892308</td>\n",
       "      <td>401.315068</td>\n",
       "    </tr>\n",
       "    <tr>\n",
       "      <th>63209</th>\n",
       "      <td>440.369231</td>\n",
       "      <td>378.958904</td>\n",
       "      <td>461.538462</td>\n",
       "      <td>436.602740</td>\n",
       "    </tr>\n",
       "    <tr>\n",
       "      <th>63210</th>\n",
       "      <td>440.369231</td>\n",
       "      <td>378.958904</td>\n",
       "      <td>461.538462</td>\n",
       "      <td>436.602740</td>\n",
       "    </tr>\n",
       "    <tr>\n",
       "      <th>63211</th>\n",
       "      <td>170.338462</td>\n",
       "      <td>301.369863</td>\n",
       "      <td>407.876923</td>\n",
       "      <td>394.301370</td>\n",
       "    </tr>\n",
       "    <tr>\n",
       "      <th>63212</th>\n",
       "      <td>169.600000</td>\n",
       "      <td>287.780822</td>\n",
       "      <td>410.092308</td>\n",
       "      <td>386.410959</td>\n",
       "    </tr>\n",
       "    <tr>\n",
       "      <th>63213</th>\n",
       "      <td>258.953846</td>\n",
       "      <td>156.712329</td>\n",
       "      <td>319.753846</td>\n",
       "      <td>211.726027</td>\n",
       "    </tr>\n",
       "  </tbody>\n",
       "</table>\n",
       "</div>"
      ],
      "text/plain": [
       "           x_minr      y_minr      x_maxr      y_maxr\n",
       "63208  170.092308  301.369863  406.892308  401.315068\n",
       "63209  440.369231  378.958904  461.538462  436.602740\n",
       "63210  440.369231  378.958904  461.538462  436.602740\n",
       "63211  170.338462  301.369863  407.876923  394.301370\n",
       "63212  169.600000  287.780822  410.092308  386.410959\n",
       "63213  258.953846  156.712329  319.753846  211.726027"
      ]
     },
     "execution_count": 23,
     "metadata": {},
     "output_type": "execute_result"
    }
   ],
   "source": [
    "sample_labels['y_minr'] = sample_labels['y_min'] * (height / sample_labels['dim0'])\n",
    "sample_labels['x_minr'] = sample_labels['x_min'] * (width / sample_labels['dim1'])\n",
    "sample_labels['y_maxr'] = sample_labels['y_max'] * (height / sample_labels['dim0'])\n",
    "sample_labels['x_maxr'] = sample_labels['x_max'] * (width / sample_labels['dim1'])\n",
    "sample_labels[['x_minr', 'y_minr', 'x_maxr', 'y_maxr']]"
   ]
  },
  {
   "cell_type": "code",
   "execution_count": 24,
   "id": "7fe3d8ce-e487-4c46-bee2-0f21f4b59ce9",
   "metadata": {},
   "outputs": [],
   "source": [
    "import matplotlib.patches as patches"
   ]
  },
  {
   "cell_type": "code",
   "execution_count": 25,
   "id": "6c0249e7-eed4-4e7e-901d-c2b1ffe76233",
   "metadata": {},
   "outputs": [
    {
     "data": {
      "image/png": "[encoded data removed]",
      "text/plain": [
       "<Figure size 432x288 with 1 Axes>"
      ]
     },
     "metadata": {
      "needs_background": "light"
     },
     "output_type": "display_data"
    }
   ],
   "source": [
    "fig, ax = plt.subplots()\n",
    "\n",
    "for index, row in sample_labels.iterrows():\n",
    "    xmin, ymin = row['x_minr'], row['y_minr'], \n",
    "    h = row['y_maxr'] - row['y_minr']\n",
    "    w = row['x_maxr'] - row['x_minr']\n",
    "    rect = patches.Rectangle(\n",
    "        (xmin, ymin), w, h, linewidth=1, fill=False\n",
    "    )\n",
    "    ax.add_patch(rect)\n",
    "ax.imshow(img_arr)\n",
    "plt.show()"
   ]
  },
  {
   "cell_type": "markdown",
   "id": "ab14d205-5c71-4256-b8a3-b7d805770d86",
   "metadata": {},
   "source": [
    "### Applying Resizing BBOX to Bigger DF"
   ]
  },
  {
   "cell_type": "code",
   "execution_count": 26,
   "id": "0ed07be4-67aa-4576-a77c-16c09034b272",
   "metadata": {},
   "outputs": [],
   "source": [
    "sample_labels = big_df\n",
    "sample_labels['y_minr'] = sample_labels['y_min'] * (height / sample_labels['dim0'])\n",
    "sample_labels['x_minr'] = sample_labels['x_min'] * (width / sample_labels['dim1'])\n",
    "sample_labels['y_maxr'] = sample_labels['y_max'] * (height / sample_labels['dim0'])\n",
    "sample_labels['x_maxr'] = sample_labels['x_max'] * (width / sample_labels['dim1'])"
   ]
  },
  {
   "cell_type": "code",
   "execution_count": 27,
   "id": "d3bad3ad-a4d7-4c76-bff9-5d54dcdcbf19",
   "metadata": {},
   "outputs": [
    {
     "data": {
      "text/html": [
       "<div>\n",
       "<style scoped>\n",
       "    .dataframe tbody tr th:only-of-type {\n",
       "        vertical-align: middle;\n",
       "    }\n",
       "\n",
       "    .dataframe tbody tr th {\n",
       "        vertical-align: top;\n",
       "    }\n",
       "\n",
       "    .dataframe thead th {\n",
       "        text-align: right;\n",
       "    }\n",
       "</style>\n",
       "<table border=\"1\" class=\"dataframe\">\n",
       "  <thead>\n",
       "    <tr style=\"text-align: right;\">\n",
       "      <th></th>\n",
       "      <th>class_name</th>\n",
       "      <th>class_id</th>\n",
       "      <th>x_minr</th>\n",
       "      <th>y_minr</th>\n",
       "      <th>x_maxr</th>\n",
       "      <th>y_maxr</th>\n",
       "    </tr>\n",
       "  </thead>\n",
       "  <tbody>\n",
       "    <tr>\n",
       "      <th>0</th>\n",
       "      <td>No finding</td>\n",
       "      <td>14</td>\n",
       "      <td>NaN</td>\n",
       "      <td>NaN</td>\n",
       "      <td>NaN</td>\n",
       "      <td>NaN</td>\n",
       "    </tr>\n",
       "    <tr>\n",
       "      <th>1</th>\n",
       "      <td>No finding</td>\n",
       "      <td>14</td>\n",
       "      <td>NaN</td>\n",
       "      <td>NaN</td>\n",
       "      <td>NaN</td>\n",
       "      <td>NaN</td>\n",
       "    </tr>\n",
       "    <tr>\n",
       "      <th>2</th>\n",
       "      <td>No finding</td>\n",
       "      <td>14</td>\n",
       "      <td>NaN</td>\n",
       "      <td>NaN</td>\n",
       "      <td>NaN</td>\n",
       "      <td>NaN</td>\n",
       "    </tr>\n",
       "    <tr>\n",
       "      <th>3</th>\n",
       "      <td>No finding</td>\n",
       "      <td>14</td>\n",
       "      <td>NaN</td>\n",
       "      <td>NaN</td>\n",
       "      <td>NaN</td>\n",
       "      <td>NaN</td>\n",
       "    </tr>\n",
       "    <tr>\n",
       "      <th>4</th>\n",
       "      <td>No finding</td>\n",
       "      <td>14</td>\n",
       "      <td>NaN</td>\n",
       "      <td>NaN</td>\n",
       "      <td>NaN</td>\n",
       "      <td>NaN</td>\n",
       "    </tr>\n",
       "    <tr>\n",
       "      <th>...</th>\n",
       "      <td>...</td>\n",
       "      <td>...</td>\n",
       "      <td>...</td>\n",
       "      <td>...</td>\n",
       "      <td>...</td>\n",
       "      <td>...</td>\n",
       "    </tr>\n",
       "    <tr>\n",
       "      <th>67909</th>\n",
       "      <td>Aortic enlargement</td>\n",
       "      <td>0</td>\n",
       "      <td>283.833333</td>\n",
       "      <td>82.333333</td>\n",
       "      <td>347.500000</td>\n",
       "      <td>139.333333</td>\n",
       "    </tr>\n",
       "    <tr>\n",
       "      <th>67910</th>\n",
       "      <td>Cardiomegaly</td>\n",
       "      <td>3</td>\n",
       "      <td>228.666667</td>\n",
       "      <td>208.500000</td>\n",
       "      <td>408.666667</td>\n",
       "      <td>284.833333</td>\n",
       "    </tr>\n",
       "    <tr>\n",
       "      <th>67911</th>\n",
       "      <td>No finding</td>\n",
       "      <td>14</td>\n",
       "      <td>NaN</td>\n",
       "      <td>NaN</td>\n",
       "      <td>NaN</td>\n",
       "      <td>NaN</td>\n",
       "    </tr>\n",
       "    <tr>\n",
       "      <th>67912</th>\n",
       "      <td>No finding</td>\n",
       "      <td>14</td>\n",
       "      <td>NaN</td>\n",
       "      <td>NaN</td>\n",
       "      <td>NaN</td>\n",
       "      <td>NaN</td>\n",
       "    </tr>\n",
       "    <tr>\n",
       "      <th>67913</th>\n",
       "      <td>No finding</td>\n",
       "      <td>14</td>\n",
       "      <td>NaN</td>\n",
       "      <td>NaN</td>\n",
       "      <td>NaN</td>\n",
       "      <td>NaN</td>\n",
       "    </tr>\n",
       "  </tbody>\n",
       "</table>\n",
       "<p>67914 rows × 6 columns</p>\n",
       "</div>"
      ],
      "text/plain": [
       "               class_name  class_id      x_minr      y_minr      x_maxr  \\\n",
       "0              No finding        14         NaN         NaN         NaN   \n",
       "1              No finding        14         NaN         NaN         NaN   \n",
       "2              No finding        14         NaN         NaN         NaN   \n",
       "3              No finding        14         NaN         NaN         NaN   \n",
       "4              No finding        14         NaN         NaN         NaN   \n",
       "...                   ...       ...         ...         ...         ...   \n",
       "67909  Aortic enlargement         0  283.833333   82.333333  347.500000   \n",
       "67910        Cardiomegaly         3  228.666667  208.500000  408.666667   \n",
       "67911          No finding        14         NaN         NaN         NaN   \n",
       "67912          No finding        14         NaN         NaN         NaN   \n",
       "67913          No finding        14         NaN         NaN         NaN   \n",
       "\n",
       "           y_maxr  \n",
       "0             NaN  \n",
       "1             NaN  \n",
       "2             NaN  \n",
       "3             NaN  \n",
       "4             NaN  \n",
       "...           ...  \n",
       "67909  139.333333  \n",
       "67910  284.833333  \n",
       "67911         NaN  \n",
       "67912         NaN  \n",
       "67913         NaN  \n",
       "\n",
       "[67914 rows x 6 columns]"
      ]
     },
     "execution_count": 27,
     "metadata": {},
     "output_type": "execute_result"
    }
   ],
   "source": [
    "sample_labels[['class_name', 'class_id', 'x_minr', 'y_minr', 'x_maxr', 'y_maxr']]"
   ]
  },
  {
   "cell_type": "code",
   "execution_count": 36,
   "id": "48ab617b-342a-4050-bab9-f69807e5b1e6",
   "metadata": {
    "scrolled": true,
    "tags": []
   },
   "outputs": [
    {
     "name": "stderr",
     "output_type": "stream",
     "text": [
      "100%|██████████| 15000/15000 [00:04<00:00, 3320.67it/s]\n"
     ]
    }
   ],
   "source": [
    "from tqdm import tqdm\n",
    "\n",
    "height, width = 512, 512\n",
    "\n",
    "def agg_func(row):\n",
    "    # print(row)\n",
    "    x1, y1, x2, y2 = row['x_minr'], row['y_minr'], row['x_maxr'], row['y_maxr']\n",
    "    w, h = x2 - x1, y2 - y1\n",
    "    cx, cy = (x1 + x2) / 2, (y1 + y2) / 2\n",
    "    return [row['class_id'], cx / width, cy / height, w / width, h / height]\n",
    "\n",
    "id_groups = sample_labels.groupby('image_id')\n",
    "yolo_bboxes = {\n",
    "    k: {} for k,v in sets.items()\n",
    "}\n",
    "for image_id, id_group in tqdm(id_groups):\n",
    "    found = False\n",
    "    dataset = None\n",
    "    for k, v in sets.items():\n",
    "        found = found or image_id + '.png' in v\n",
    "        if found:\n",
    "            dataset = k\n",
    "            break\n",
    "    \n",
    "    if not found: \n",
    "        continue\n",
    "    \n",
    "    bboxes = []\n",
    "    for row_index, row in id_group.iterrows():\n",
    "        bboxes.append(agg_func(row))\n",
    "    yolo_bboxes[dataset][image_id] = bboxes"
   ]
  },
  {
   "cell_type": "code",
   "execution_count": 38,
   "id": "bbcf5e78-25b2-45ed-af08-4056d40b289f",
   "metadata": {},
   "outputs": [
    {
     "data": {
      "text/plain": [
       "(3, [('TRAINING', 2812), ('VALIDATION', 703), ('TEST', 879)])"
      ]
     },
     "execution_count": 38,
     "metadata": {},
     "output_type": "execute_result"
    }
   ],
   "source": [
    "len(yolo_bboxes), [(k, len(v)) for k,v in yolo_bboxes.items()]"
   ]
  },
  {
   "cell_type": "code",
   "execution_count": 40,
   "id": "5152be9e-2ed7-4197-83fb-ca14097392d0",
   "metadata": {},
   "outputs": [
    {
     "data": {
      "text/plain": [
       "[[7,\n",
       "  0.3426106770833333,\n",
       "  0.24007161458333331,\n",
       "  0.09928385416666663,\n",
       "  0.09798177083333334],\n",
       " [8,\n",
       "  0.3465169270833333,\n",
       "  0.23811848958333331,\n",
       "  0.08626302083333337,\n",
       "  0.10709635416666663],\n",
       " [6,\n",
       "  0.3426106770833333,\n",
       "  0.24007161458333331,\n",
       "  0.09928385416666663,\n",
       "  0.09798177083333334],\n",
       " [7,\n",
       "  0.3430989583333333,\n",
       "  0.23974609374999997,\n",
       "  0.09700520833333337,\n",
       "  0.09993489583333331],\n",
       " [4,\n",
       "  0.3465169270833333,\n",
       "  0.23811848958333331,\n",
       "  0.08626302083333337,\n",
       "  0.10709635416666663]]"
      ]
     },
     "execution_count": 40,
     "metadata": {},
     "output_type": "execute_result"
    }
   ],
   "source": [
    "yolo_bboxes['TRAINING']['0005e8e3701dfb1dd93d53e2ff537b6e']"
   ]
  },
  {
   "cell_type": "code",
   "execution_count": 71,
   "id": "f24b1777-8bac-4e1e-8df4-0c6f5b89d748",
   "metadata": {},
   "outputs": [],
   "source": [
    "def make_txt_label(example, path):\n",
    "    lines = []\n",
    "    for l in example:\n",
    "        line = f\"{l[0]: <2} {l[1]:.5f} {l[2]:.5f} {l[3]:.5f} {l[4]:.5f}\"\n",
    "        lines.append(line)\n",
    "        \n",
    "    base_name = os.path.basename(path)\n",
    "    folder_path = path.replace(base_name, \"\")\n",
    "    os.makedirs(folder_path, exist_ok=True)\n",
    "\n",
    "    with open(path, 'w') as f:\n",
    "        for i, l in enumerate(lines):\n",
    "            if i + 1 == len(lines):\n",
    "                f.write(l)\n",
    "            else:\n",
    "                f.write(l + '\\n')"
   ]
  },
  {
   "cell_type": "code",
   "execution_count": 72,
   "id": "bbac748d-fca5-4a7e-9731-64d6497226fc",
   "metadata": {},
   "outputs": [
    {
     "name": "stderr",
     "output_type": "stream",
     "text": [
      "100%|██████████| 2812/2812 [00:00<00:00, 2838.28it/s]\n",
      "100%|██████████| 703/703 [00:00<00:00, 2996.04it/s]\n",
      "100%|██████████| 879/879 [00:00<00:00, 2705.14it/s]\n"
     ]
    }
   ],
   "source": [
    "label_base = '../../vbd_vol/pngs_512/yolov5/labels'\n",
    "for k, v in yolo_bboxes.items():\n",
    "    kbase = os.path.join(label_base, k)\n",
    "    for img_id, bboxes in tqdm(v.items()):\n",
    "        txtbase = os.path.join(kbase, img_id + '.txt')\n",
    "        make_txt_label(bboxes, txtbase)"
   ]
  },
  {
   "cell_type": "code",
   "execution_count": 73,
   "id": "552772ac-7c1e-4119-bcf7-d9d9306e06eb",
   "metadata": {},
   "outputs": [
    {
     "data": {
      "text/plain": [
       "2812"
      ]
     },
     "execution_count": 73,
     "metadata": {},
     "output_type": "execute_result"
    }
   ],
   "source": [
    "len(os.listdir('../../vbd_vol/pngs_512/yolov5/labels/TRAINING/'))"
   ]
  },
  {
   "cell_type": "code",
   "execution_count": 75,
   "id": "eb58997c-67db-4eb1-9eb3-e7fa758997ed",
   "metadata": {},
   "outputs": [
    {
     "data": {
      "text/plain": [
       "879"
      ]
     },
     "execution_count": 75,
     "metadata": {},
     "output_type": "execute_result"
    }
   ],
   "source": [
    "len(os.listdir('../../vbd_vol/pngs_512/yolov5/labels/TEST/'))"
   ]
  },
  {
   "cell_type": "code",
   "execution_count": 77,
   "id": "7debb7d6-84f9-4fe3-acb2-42d86d7feaa8",
   "metadata": {},
   "outputs": [
    {
     "data": {
      "text/plain": [
       "703"
      ]
     },
     "execution_count": 77,
     "metadata": {},
     "output_type": "execute_result"
    }
   ],
   "source": [
    "len(os.listdir('../../vbd_vol/pngs_512/yolov5/labels/VALIDATION/'))"
   ]
  },
  {
   "cell_type": "markdown",
   "id": "377b41f6-2edc-4d9a-8886-29d91cb01dae",
   "metadata": {},
   "source": [
    "# Getting Label Map"
   ]
  },
  {
   "cell_type": "code",
   "execution_count": 92,
   "id": "f909a4fd-6408-49e5-a19c-5613f1f377d3",
   "metadata": {},
   "outputs": [
    {
     "data": {
      "text/html": [
       "<div>\n",
       "<style scoped>\n",
       "    .dataframe tbody tr th:only-of-type {\n",
       "        vertical-align: middle;\n",
       "    }\n",
       "\n",
       "    .dataframe tbody tr th {\n",
       "        vertical-align: top;\n",
       "    }\n",
       "\n",
       "    .dataframe thead th {\n",
       "        text-align: right;\n",
       "    }\n",
       "</style>\n",
       "<table border=\"1\" class=\"dataframe\">\n",
       "  <thead>\n",
       "    <tr style=\"text-align: right;\">\n",
       "      <th></th>\n",
       "      <th>class_name</th>\n",
       "      <th>class_id</th>\n",
       "    </tr>\n",
       "  </thead>\n",
       "  <tbody>\n",
       "    <tr>\n",
       "      <th>0</th>\n",
       "      <td>Aortic enlargement</td>\n",
       "      <td>0</td>\n",
       "    </tr>\n",
       "    <tr>\n",
       "      <th>1</th>\n",
       "      <td>Atelectasis</td>\n",
       "      <td>1</td>\n",
       "    </tr>\n",
       "    <tr>\n",
       "      <th>2</th>\n",
       "      <td>Calcification</td>\n",
       "      <td>2</td>\n",
       "    </tr>\n",
       "    <tr>\n",
       "      <th>3</th>\n",
       "      <td>Cardiomegaly</td>\n",
       "      <td>3</td>\n",
       "    </tr>\n",
       "    <tr>\n",
       "      <th>4</th>\n",
       "      <td>Consolidation</td>\n",
       "      <td>4</td>\n",
       "    </tr>\n",
       "    <tr>\n",
       "      <th>5</th>\n",
       "      <td>ILD</td>\n",
       "      <td>5</td>\n",
       "    </tr>\n",
       "    <tr>\n",
       "      <th>6</th>\n",
       "      <td>Infiltration</td>\n",
       "      <td>6</td>\n",
       "    </tr>\n",
       "    <tr>\n",
       "      <th>7</th>\n",
       "      <td>Lung Opacity</td>\n",
       "      <td>7</td>\n",
       "    </tr>\n",
       "    <tr>\n",
       "      <th>8</th>\n",
       "      <td>Nodule/Mass</td>\n",
       "      <td>8</td>\n",
       "    </tr>\n",
       "    <tr>\n",
       "      <th>9</th>\n",
       "      <td>Other lesion</td>\n",
       "      <td>9</td>\n",
       "    </tr>\n",
       "    <tr>\n",
       "      <th>10</th>\n",
       "      <td>Pleural effusion</td>\n",
       "      <td>10</td>\n",
       "    </tr>\n",
       "    <tr>\n",
       "      <th>11</th>\n",
       "      <td>Pleural thickening</td>\n",
       "      <td>11</td>\n",
       "    </tr>\n",
       "    <tr>\n",
       "      <th>12</th>\n",
       "      <td>Pneumothorax</td>\n",
       "      <td>12</td>\n",
       "    </tr>\n",
       "    <tr>\n",
       "      <th>13</th>\n",
       "      <td>Pulmonary fibrosis</td>\n",
       "      <td>13</td>\n",
       "    </tr>\n",
       "    <tr>\n",
       "      <th>14</th>\n",
       "      <td>No finding</td>\n",
       "      <td>14</td>\n",
       "    </tr>\n",
       "  </tbody>\n",
       "</table>\n",
       "</div>"
      ],
      "text/plain": [
       "            class_name  class_id\n",
       "0   Aortic enlargement         0\n",
       "1          Atelectasis         1\n",
       "2        Calcification         2\n",
       "3         Cardiomegaly         3\n",
       "4        Consolidation         4\n",
       "5                  ILD         5\n",
       "6         Infiltration         6\n",
       "7         Lung Opacity         7\n",
       "8          Nodule/Mass         8\n",
       "9         Other lesion         9\n",
       "10    Pleural effusion        10\n",
       "11  Pleural thickening        11\n",
       "12        Pneumothorax        12\n",
       "13  Pulmonary fibrosis        13\n",
       "14          No finding        14"
      ]
     },
     "execution_count": 92,
     "metadata": {},
     "output_type": "execute_result"
    }
   ],
   "source": [
    "ordered_classes = big_df[['class_name', 'class_id']]\n",
    "ordered_classes = ordered_classes.drop_duplicates().sort_values('class_id')\n",
    "ordered_classes = ordered_classes.reset_index(drop='index')\n",
    "ordered_classes"
   ]
  },
  {
   "cell_type": "code",
   "execution_count": 97,
   "id": "93387d14-8368-4df3-b41b-9a9b1ed09fb8",
   "metadata": {},
   "outputs": [
    {
     "data": {
      "text/plain": [
       "['Aortic enlargement',\n",
       " 'Atelectasis',\n",
       " 'Calcification',\n",
       " 'Cardiomegaly',\n",
       " 'Consolidation',\n",
       " 'ILD',\n",
       " 'Infiltration',\n",
       " 'Lung Opacity',\n",
       " 'Nodule/Mass',\n",
       " 'Other lesion',\n",
       " 'Pleural effusion',\n",
       " 'Pleural thickening',\n",
       " 'Pneumothorax',\n",
       " 'Pulmonary fibrosis',\n",
       " 'No finding']"
      ]
     },
     "execution_count": 97,
     "metadata": {},
     "output_type": "execute_result"
    }
   ],
   "source": [
    "classes = ordered_classes['class_name'].values.tolist()\n",
    "classes"
   ]
  },
  {
   "cell_type": "code",
   "execution_count": 98,
   "id": "14da33b7-16bc-4972-ae77-4bc4f4480932",
   "metadata": {},
   "outputs": [
    {
     "data": {
      "text/plain": [
       "15"
      ]
     },
     "execution_count": 98,
     "metadata": {},
     "output_type": "execute_result"
    }
   ],
   "source": [
    "len(classes)"
   ]
  },
  {
   "cell_type": "code",
   "execution_count": null,
   "id": "d6195977-7828-4468-b53e-235500002396",
   "metadata": {},
   "outputs": [],
   "source": []
  }
 ],
 "metadata": {
  "kernelspec": {
   "display_name": "Python 3",
   "language": "python",
   "name": "python3"
  },
  "language_info": {
   "codemirror_mode": {
    "name": "ipython",
    "version": 3
   },
   "file_extension": ".py",
   "mimetype": "text/x-python",
   "name": "python",
   "nbconvert_exporter": "python",
   "pygments_lexer": "ipython3",
   "version": "3.7.10"
  }
 },
 "nbformat": 4,
 "nbformat_minor": 5
}
