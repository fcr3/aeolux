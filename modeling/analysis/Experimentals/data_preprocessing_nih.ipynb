{
 "cells": [
  {
   "cell_type": "code",
   "execution_count": 1,
   "id": "87ccdf54",
   "metadata": {},
   "outputs": [],
   "source": [
    "# import pydicom\n",
    "import numpy\n",
    "import os\n",
    "import matplotlib.pyplot as plt\n",
    "import pandas as pd"
   ]
  },
  {
   "cell_type": "markdown",
   "id": "47571eec",
   "metadata": {},
   "source": [
    "# Preprocessing Notebook\n",
    "\n",
    "Here is a notebook to help with data preprocessing. This uses the RSNA competition data. Link to competition data: https://www.kaggle.com/c/rsna-pneumonia-detection-challenge/data\n",
    "\n",
    "## Displaying Data\n",
    "\n",
    "I'll go through a series of steps on how to display dcm data and its associated bounding box(es)."
   ]
  },
  {
   "cell_type": "code",
   "execution_count": 2,
   "id": "9d3cd71e",
   "metadata": {
    "tags": []
   },
   "outputs": [
    {
     "data": {
      "text/plain": [
       "['../../nih_data_vol/bbox_images/00016522_023.png',\n",
       " '../../nih_data_vol/bbox_images/00000032_037.png',\n",
       " '../../nih_data_vol/bbox_images/00000072_000.png',\n",
       " '../../nih_data_vol/bbox_images/00000147_001.png',\n",
       " '../../nih_data_vol/bbox_images/00000149_006.png']"
      ]
     },
     "execution_count": 2,
     "metadata": {},
     "output_type": "execute_result"
    }
   ],
   "source": [
    "base_folder = '../../nih_data_vol/bbox_images/'\n",
    "data_files = os.listdir(base_folder)\n",
    "data_files = [base_folder + file for file in data_files]\n",
    "data_files[:5]"
   ]
  },
  {
   "cell_type": "markdown",
   "id": "69e969ce",
   "metadata": {},
   "source": [
    "Lets display one of these files."
   ]
  },
  {
   "cell_type": "markdown",
   "id": "ead19b31",
   "metadata": {},
   "source": [
    "Lets get the label for this image and display it."
   ]
  },
  {
   "cell_type": "code",
   "execution_count": 3,
   "id": "ae524163",
   "metadata": {},
   "outputs": [
    {
     "data": {
      "text/html": [
       "<div>\n",
       "<style scoped>\n",
       "    .dataframe tbody tr th:only-of-type {\n",
       "        vertical-align: middle;\n",
       "    }\n",
       "\n",
       "    .dataframe tbody tr th {\n",
       "        vertical-align: top;\n",
       "    }\n",
       "\n",
       "    .dataframe thead th {\n",
       "        text-align: right;\n",
       "    }\n",
       "</style>\n",
       "<table border=\"1\" class=\"dataframe\">\n",
       "  <thead>\n",
       "    <tr style=\"text-align: right;\">\n",
       "      <th></th>\n",
       "      <th>Image_Index</th>\n",
       "      <th>Target</th>\n",
       "      <th>x</th>\n",
       "      <th>y</th>\n",
       "      <th>w</th>\n",
       "      <th>h</th>\n",
       "      <th>path</th>\n",
       "      <th>jpg_path</th>\n",
       "      <th>fake_path</th>\n",
       "    </tr>\n",
       "  </thead>\n",
       "  <tbody>\n",
       "    <tr>\n",
       "      <th>0</th>\n",
       "      <td>00013118_008.png</td>\n",
       "      <td>Atelectasis</td>\n",
       "      <td>225.084746</td>\n",
       "      <td>547.019217</td>\n",
       "      <td>86.779661</td>\n",
       "      <td>79.186441</td>\n",
       "      <td>../../nih_data_vol/images_006/images/00013118_...</td>\n",
       "      <td>../../nih_data_vol/bbox_images_jpgs/00013118_0...</td>\n",
       "      <td>/home/tensorflow/aeolux2/nih_data_vol/bbox_ima...</td>\n",
       "    </tr>\n",
       "    <tr>\n",
       "      <th>1</th>\n",
       "      <td>00014716_007.png</td>\n",
       "      <td>Atelectasis</td>\n",
       "      <td>686.101695</td>\n",
       "      <td>131.543498</td>\n",
       "      <td>185.491525</td>\n",
       "      <td>313.491525</td>\n",
       "      <td>../../nih_data_vol/images_007/images/00014716_...</td>\n",
       "      <td>../../nih_data_vol/bbox_images_jpgs/00014716_0...</td>\n",
       "      <td>/home/tensorflow/aeolux2/nih_data_vol/bbox_ima...</td>\n",
       "    </tr>\n",
       "    <tr>\n",
       "      <th>2</th>\n",
       "      <td>00029817_009.png</td>\n",
       "      <td>Atelectasis</td>\n",
       "      <td>221.830508</td>\n",
       "      <td>317.053115</td>\n",
       "      <td>155.118644</td>\n",
       "      <td>216.949153</td>\n",
       "      <td>../../nih_data_vol/images_012/images/00029817_...</td>\n",
       "      <td>../../nih_data_vol/bbox_images_jpgs/00029817_0...</td>\n",
       "      <td>/home/tensorflow/aeolux2/nih_data_vol/bbox_ima...</td>\n",
       "    </tr>\n",
       "    <tr>\n",
       "      <th>3</th>\n",
       "      <td>00014687_001.png</td>\n",
       "      <td>Atelectasis</td>\n",
       "      <td>726.237288</td>\n",
       "      <td>494.951420</td>\n",
       "      <td>141.016949</td>\n",
       "      <td>55.322034</td>\n",
       "      <td>../../nih_data_vol/images_007/images/00014687_...</td>\n",
       "      <td>../../nih_data_vol/bbox_images_jpgs/00014687_0...</td>\n",
       "      <td>/home/tensorflow/aeolux2/nih_data_vol/bbox_ima...</td>\n",
       "    </tr>\n",
       "    <tr>\n",
       "      <th>4</th>\n",
       "      <td>00017877_001.png</td>\n",
       "      <td>Atelectasis</td>\n",
       "      <td>660.067797</td>\n",
       "      <td>569.780787</td>\n",
       "      <td>200.677966</td>\n",
       "      <td>78.101695</td>\n",
       "      <td>../../nih_data_vol/images_008/images/00017877_...</td>\n",
       "      <td>../../nih_data_vol/bbox_images_jpgs/00017877_0...</td>\n",
       "      <td>/home/tensorflow/aeolux2/nih_data_vol/bbox_ima...</td>\n",
       "    </tr>\n",
       "  </tbody>\n",
       "</table>\n",
       "</div>"
      ],
      "text/plain": [
       "        Image_Index       Target           x           y           w  \\\n",
       "0  00013118_008.png  Atelectasis  225.084746  547.019217   86.779661   \n",
       "1  00014716_007.png  Atelectasis  686.101695  131.543498  185.491525   \n",
       "2  00029817_009.png  Atelectasis  221.830508  317.053115  155.118644   \n",
       "3  00014687_001.png  Atelectasis  726.237288  494.951420  141.016949   \n",
       "4  00017877_001.png  Atelectasis  660.067797  569.780787  200.677966   \n",
       "\n",
       "            h                                               path  \\\n",
       "0   79.186441  ../../nih_data_vol/images_006/images/00013118_...   \n",
       "1  313.491525  ../../nih_data_vol/images_007/images/00014716_...   \n",
       "2  216.949153  ../../nih_data_vol/images_012/images/00029817_...   \n",
       "3   55.322034  ../../nih_data_vol/images_007/images/00014687_...   \n",
       "4   78.101695  ../../nih_data_vol/images_008/images/00017877_...   \n",
       "\n",
       "                                            jpg_path  \\\n",
       "0  ../../nih_data_vol/bbox_images_jpgs/00013118_0...   \n",
       "1  ../../nih_data_vol/bbox_images_jpgs/00014716_0...   \n",
       "2  ../../nih_data_vol/bbox_images_jpgs/00029817_0...   \n",
       "3  ../../nih_data_vol/bbox_images_jpgs/00014687_0...   \n",
       "4  ../../nih_data_vol/bbox_images_jpgs/00017877_0...   \n",
       "\n",
       "                                           fake_path  \n",
       "0  /home/tensorflow/aeolux2/nih_data_vol/bbox_ima...  \n",
       "1  /home/tensorflow/aeolux2/nih_data_vol/bbox_ima...  \n",
       "2  /home/tensorflow/aeolux2/nih_data_vol/bbox_ima...  \n",
       "3  /home/tensorflow/aeolux2/nih_data_vol/bbox_ima...  \n",
       "4  /home/tensorflow/aeolux2/nih_data_vol/bbox_ima...  "
      ]
     },
     "execution_count": 3,
     "metadata": {},
     "output_type": "execute_result"
    }
   ],
   "source": [
    "base_folder_labels = '../../nih_data_vol/BBox_List_2017.csv'\n",
    "base_folder_paths = '../../nih_data_vol/image_paths.csv'\n",
    "label_df = pd.read_csv(base_folder_labels)\n",
    "path_df = pd.read_csv(base_folder_paths)\n",
    "label_df = label_df.merge(path_df, on='Image Index')\n",
    "label_df = label_df.rename(columns={\n",
    "    'Finding Label': 'Target',\n",
    "    'Bbox [x': 'x', 'h]': 'h',\n",
    "    'Image Index': 'Image_Index'\n",
    "})\n",
    "\n",
    "def correct_path(x):\n",
    "    tf_path = '/home/tensorflow/aeolux2/nih_data_vol/bbox_images_jpgs/'\n",
    "    suffix = x.replace(\".png\", \".jpgs\")\n",
    "    return tf_path + suffix\n",
    "\n",
    "def correct_jpg_path(x):\n",
    "    x = x.replace('.png', '.jpg')\n",
    "    jpg_path = '../../nih_data_vol/bbox_images_jpgs/'\n",
    "    return os.path.join(jpg_path, x)\n",
    "\n",
    "label_df['jpg_path'] = label_df['Image_Index'].apply(correct_jpg_path)\n",
    "label_df['fake_path'] = label_df['Image_Index'].apply(correct_path)\n",
    "label_df = label_df.drop(columns=['Unnamed: 6', 'Unnamed: 7', 'Unnamed: 8'])\n",
    "label_df.head()"
   ]
  },
  {
   "cell_type": "code",
   "execution_count": 4,
   "id": "da3b73a5",
   "metadata": {},
   "outputs": [
    {
     "data": {
      "text/html": [
       "<div>\n",
       "<style scoped>\n",
       "    .dataframe tbody tr th:only-of-type {\n",
       "        vertical-align: middle;\n",
       "    }\n",
       "\n",
       "    .dataframe tbody tr th {\n",
       "        vertical-align: top;\n",
       "    }\n",
       "\n",
       "    .dataframe thead th {\n",
       "        text-align: right;\n",
       "    }\n",
       "</style>\n",
       "<table border=\"1\" class=\"dataframe\">\n",
       "  <thead>\n",
       "    <tr style=\"text-align: right;\">\n",
       "      <th></th>\n",
       "      <th>Image_Index</th>\n",
       "      <th>Target</th>\n",
       "      <th>x</th>\n",
       "      <th>y</th>\n",
       "      <th>w</th>\n",
       "      <th>h</th>\n",
       "      <th>path</th>\n",
       "      <th>jpg_path</th>\n",
       "      <th>fake_path</th>\n",
       "    </tr>\n",
       "  </thead>\n",
       "  <tbody>\n",
       "    <tr>\n",
       "      <th>1</th>\n",
       "      <td>00014716_007.png</td>\n",
       "      <td>Atelectasis</td>\n",
       "      <td>686.101695</td>\n",
       "      <td>131.543498</td>\n",
       "      <td>185.491525</td>\n",
       "      <td>313.491525</td>\n",
       "      <td>../../nih_data_vol/images_007/images/00014716_...</td>\n",
       "      <td>../../nih_data_vol/bbox_images_jpgs/00014716_0...</td>\n",
       "      <td>/home/tensorflow/aeolux2/nih_data_vol/bbox_ima...</td>\n",
       "    </tr>\n",
       "  </tbody>\n",
       "</table>\n",
       "</div>"
      ],
      "text/plain": [
       "        Image_Index       Target           x           y           w  \\\n",
       "1  00014716_007.png  Atelectasis  686.101695  131.543498  185.491525   \n",
       "\n",
       "            h                                               path  \\\n",
       "1  313.491525  ../../nih_data_vol/images_007/images/00014716_...   \n",
       "\n",
       "                                            jpg_path  \\\n",
       "1  ../../nih_data_vol/bbox_images_jpgs/00014716_0...   \n",
       "\n",
       "                                           fake_path  \n",
       "1  /home/tensorflow/aeolux2/nih_data_vol/bbox_ima...  "
      ]
     },
     "execution_count": 4,
     "metadata": {},
     "output_type": "execute_result"
    }
   ],
   "source": [
    "sample_id = '00014716_007.png'\n",
    "sample_bbox = label_df.query(f\"Image_Index == '{sample_id}'\")\n",
    "sample_bbox"
   ]
  },
  {
   "cell_type": "code",
   "execution_count": 5,
   "id": "5e58f834",
   "metadata": {},
   "outputs": [
    {
     "data": {
      "text/plain": [
       "(array([[686.10169492, 131.54349841, 185.49152542, 313.49152542]]),\n",
       " '../../nih_data_vol/images_007/images/00014716_007.png',\n",
       " '/home/tensorflow/aeolux2/nih_data_vol/bbox_images_jpgs/00014716_007.jpgs',\n",
       " '../../nih_data_vol/bbox_images_jpgs/00014716_007.jpg')"
      ]
     },
     "execution_count": 5,
     "metadata": {},
     "output_type": "execute_result"
    }
   ],
   "source": [
    "bbox_coords = sample_bbox[['x', 'y', 'w', 'h']].values\n",
    "sample_path = sample_bbox['path'].values[0]\n",
    "sample_fake_path = sample_bbox['fake_path'].values[0]\n",
    "sample_jpg_path = sample_bbox['jpg_path'].values[0]\n",
    "bbox_coords, sample_path, sample_fake_path, sample_jpg_path"
   ]
  },
  {
   "cell_type": "code",
   "execution_count": 6,
   "id": "d769b36d",
   "metadata": {},
   "outputs": [
    {
     "data": {
      "image/png": "[encoded data removed]",
      "text/plain": [
       "<Figure size 432x288 with 1 Axes>"
      ]
     },
     "metadata": {
      "needs_background": "light"
     },
     "output_type": "display_data"
    }
   ],
   "source": [
    "from matplotlib.patches import Rectangle\n",
    "from PIL import Image\n",
    "import numpy as np\n",
    "\n",
    "sample_img = Image.open(sample_path).convert('RGB')\n",
    "sample_img = np.array(sample_img)\n",
    "plt.imshow(sample_img, cmap=plt.cm.bone)\n",
    "ax = plt.gca()\n",
    "for bbox_coord in bbox_coords:\n",
    "    x, y, w, h = bbox_coord\n",
    "    rect = Rectangle((x, y), w, h, linewidth=1, edgecolor='r',facecolor='none')\n",
    "    ax.add_patch(rect)\n",
    "plt.show()"
   ]
  },
  {
   "cell_type": "markdown",
   "id": "f3bedafe",
   "metadata": {},
   "source": [
    "## PASCAL VOC Label Conversion\n",
    "\n",
    "It might be advantageous for us to convert our labels into PASCAL VOC label format. A typical example is as follows:\n",
    "\n",
    "```\n",
    "<annotation>\n",
    "\t<folder>GeneratedData_Train</folder>\n",
    "\t<filename>000001.png</filename>\n",
    "\t<path>/my/path/GeneratedData_Train/000001.png</path>\n",
    "\t<source>\n",
    "\t\t<database>Unknown</database>\n",
    "\t</source>\n",
    "\t<size>\n",
    "\t\t<width>224</width>\n",
    "\t\t<height>224</height>\n",
    "\t\t<depth>3</depth>\n",
    "\t</size>\n",
    "\t<segmented>0</segmented>\n",
    "\t<object>\n",
    "\t\t<name>21</name>\n",
    "\t\t<pose>Frontal</pose>\n",
    "\t\t<truncated>0</truncated>\n",
    "\t\t<difficult>0</difficult>\n",
    "\t\t<occluded>0</occluded>\n",
    "\t\t<bndbox>\n",
    "\t\t\t<xmin>82</xmin>\n",
    "\t\t\t<xmax>172</xmax>\n",
    "\t\t\t<ymin>88</ymin>\n",
    "\t\t\t<ymax>146</ymax>\n",
    "\t\t</bndbox>\n",
    "\t</object>\n",
    "</annotation>\n",
    "```\n",
    "\n",
    "An explanation of the fields can be found here: https://towardsdatascience.com/coco-data-format-for-object-detection-a4c5eaf518c5"
   ]
  },
  {
   "cell_type": "code",
   "execution_count": 35,
   "id": "fcb33ac3-71d7-4021-b42a-350f18cae169",
   "metadata": {},
   "outputs": [],
   "source": [
    "from tqdm import tqdm"
   ]
  },
  {
   "cell_type": "code",
   "execution_count": 36,
   "id": "2b3eb397",
   "metadata": {},
   "outputs": [],
   "source": [
    "def make_pascal_voc(src, folder, filename, bbox_coords, img_shape):\n",
    "    object_xml = ''\n",
    "    \n",
    "    def isNan(x):\n",
    "        return x != x\n",
    "    \n",
    "    for bbox_coord in bbox_coords:\n",
    "        x, y, w, h, target = bbox_coord\n",
    "        xmin, xmax, ymin, ymax = x, x + w, y, y + h\n",
    "        \n",
    "        if target == 0:\n",
    "            continue\n",
    "            \n",
    "        if xmin > xmax:\n",
    "            print(src)\n",
    "\n",
    "        object_xml += f\"\"\"\\n    <object>\n",
    "        <name>{target}</name>\n",
    "        <pose>Unspecified</pose>\n",
    "        <truncated>0</truncated>\n",
    "        <difficult>0</difficult>\n",
    "        <occluded>0</occluded>\n",
    "        <bndbox>\n",
    "            <xmin>{xmin}</xmin>\n",
    "            <xmax>{xmax}</xmax>\n",
    "            <ymin>{ymin}</ymin>\n",
    "            <ymax>{ymax}</ymax>\n",
    "        </bndbox>\n",
    "    </object>\"\"\"\n",
    "        \n",
    "    return f\"\"\"<annotation>\n",
    "    <folder>{folder}</folder>\n",
    "    <filename>{filename}</filename>\n",
    "    <path>{folder}/{filename}</path>\n",
    "    <source>\n",
    "        <database>{src}</database>\n",
    "    </source>\n",
    "    <size>\n",
    "        <width>{img_shape[0]}</width>\n",
    "        <height>{img_shape[1]}</height>\n",
    "        <depth>3</depth>\n",
    "    </size>\n",
    "    <segmented>0</segmented>{object_xml}\n",
    "</annotation>\"\"\""
   ]
  },
  {
   "cell_type": "code",
   "execution_count": 39,
   "id": "3b4ce690",
   "metadata": {},
   "outputs": [
    {
     "name": "stderr",
     "output_type": "stream",
     "text": [
      "1216it [00:00, 11057.00it/s]\n"
     ]
    }
   ],
   "source": [
    "from tqdm import tqdm\n",
    "\n",
    "pascal_voc_groups = {}\n",
    "# Image_Index Target x y w h path fake_path\n",
    "for row in tqdm(label_df.iterrows()):\n",
    "    index, (iid, target, x, y, w, h, path, jpg_path, fake_path) = row\n",
    "    if iid not in pascal_voc_groups:\n",
    "        pascal_voc_groups[iid] = []\n",
    "    pascal_voc_groups[iid].append((x, y, w, h, target, fake_path))"
   ]
  },
  {
   "cell_type": "code",
   "execution_count": 40,
   "id": "99c3df1b",
   "metadata": {},
   "outputs": [
    {
     "data": {
      "text/plain": [
       "16"
      ]
     },
     "execution_count": 40,
     "metadata": {},
     "output_type": "execute_result"
    }
   ],
   "source": [
    "max([len(pascal_voc_groups[k]) for k in pascal_voc_groups.keys()])"
   ]
  },
  {
   "cell_type": "code",
   "execution_count": 41,
   "id": "bdc48932",
   "metadata": {
    "tags": []
   },
   "outputs": [
    {
     "name": "stderr",
     "output_type": "stream",
     "text": [
      "100%|██████████| 880/880 [00:00<00:00, 3847.08it/s]\n"
     ]
    }
   ],
   "source": [
    "from pathlib import Path\n",
    "\n",
    "for iid, data_row in tqdm(pascal_voc_groups.items()):\n",
    "    fake_path = data_row[0][-1]\n",
    "    data_row = [d_row[:-1] for d_row in data_row]\n",
    "    img_w, img_h = 1024, 1024\n",
    "    \n",
    "    if len(data_row) == 0:\n",
    "        continue\n",
    "    \n",
    "    pv_str = make_pascal_voc(\n",
    "        'nih',\n",
    "        '/'.join(fake_path.split('/')[:-1]), \n",
    "        iid.replace('.png', '.jpg'), \n",
    "        data_row, (img_w, img_h))\n",
    "    \n",
    "    iid = iid.replace('.png', '')\n",
    "    pv_filename = f'../../nih_data_vol/pascal_labels/{iid}.xml'\n",
    "    with open(pv_filename, 'w') as f:\n",
    "        f.write(pv_str)"
   ]
  },
  {
   "cell_type": "code",
   "execution_count": 42,
   "id": "7e3f9502",
   "metadata": {},
   "outputs": [
    {
     "data": {
      "text/plain": [
       "(880, 880)"
      ]
     },
     "execution_count": 42,
     "metadata": {},
     "output_type": "execute_result"
    }
   ],
   "source": [
    "len(os.listdir('../../nih_data_vol/bbox_images/')), len(os.listdir('../../nih_data_vol/pascal_labels/'))"
   ]
  },
  {
   "cell_type": "code",
   "execution_count": 43,
   "id": "9311dfca",
   "metadata": {},
   "outputs": [
    {
     "name": "stdout",
     "output_type": "stream",
     "text": [
      "<annotation>\n",
      "    <folder>/home/tensorflow/aeolux2/nih_data_vol/bbox_images_jpgs</folder>\n",
      "    <filename>00014716_007.jpg</filename>\n",
      "    <path>/home/tensorflow/aeolux2/nih_data_vol/bbox_images_jpgs/00014716_007.jpg</path>\n",
      "    <source>\n",
      "        <database>nih</database>\n",
      "    </source>\n",
      "    <size>\n",
      "        <width>1024</width>\n",
      "        <height>1024</height>\n",
      "        <depth>3</depth>\n",
      "    </size>\n",
      "    <segmented>0</segmented>\n",
      "    <object>\n",
      "        <name>Atelectasis</name>\n",
      "        <pose>Unspecified</pose>\n",
      "        <truncated>0</truncated>\n",
      "        <difficult>0</difficult>\n",
      "        <occluded>0</occluded>\n",
      "        <bndbox>\n",
      "            <xmin>686.101694915254</xmin>\n",
      "            <xmax>871.593220338983</xmax>\n",
      "            <ymin>131.543498411017</ymin>\n",
      "            <ymax>445.03502383474597</ymax>\n",
      "        </bndbox>\n",
      "    </object>\n",
      "</annotation>\n"
     ]
    }
   ],
   "source": [
    "# Checking contents of file with bounding boxes\n",
    "another_sample_pid2 = '00014716_007'\n",
    "base_label_path = '../../nih_data_vol/pascal_labels'\n",
    "with open(f'{base_label_path}/{another_sample_pid2}.xml', 'r') as f:\n",
    "    file_content = f.read()\n",
    "print(file_content)"
   ]
  },
  {
   "cell_type": "markdown",
   "id": "a162bb7b-8e49-43b4-ac9f-252433a54eeb",
   "metadata": {},
   "source": [
    "## Create JPGS from PNGS"
   ]
  },
  {
   "cell_type": "code",
   "execution_count": 47,
   "id": "722e0e42-b291-4ed2-b063-20fdd791fb0e",
   "metadata": {},
   "outputs": [],
   "source": [
    "png_path = '../../nih_data_vol/bbox_images/'\n",
    "png_files = os.listdir(png_path)\n",
    "png_files = [os.path.join(png_path, x) for x in png_files]"
   ]
  },
  {
   "cell_type": "code",
   "execution_count": 48,
   "id": "451e6ed8-60f9-403c-ac27-cf7bbeb819ef",
   "metadata": {},
   "outputs": [
    {
     "name": "stderr",
     "output_type": "stream",
     "text": [
      "100%|██████████| 880/880 [00:31<00:00, 28.09it/s]\n"
     ]
    }
   ],
   "source": [
    "from PIL import Image\n",
    "\n",
    "jpg_path = '../../nih_data_vol/bbox_images_jpgs'\n",
    "for png_file in tqdm(png_files):\n",
    "    img_png = Image.open(png_file).convert('RGB')\n",
    "    jpg_name = png_file.split(\"/\")[-1].replace(\".png\", \".jpg\")\n",
    "    img_png.save(os.path.join(jpg_path, jpg_name))"
   ]
  },
  {
   "cell_type": "code",
   "execution_count": 49,
   "id": "26207ee4-1731-4a13-8816-928dbb16f949",
   "metadata": {},
   "outputs": [
    {
     "data": {
      "text/plain": [
       "880"
      ]
     },
     "execution_count": 49,
     "metadata": {},
     "output_type": "execute_result"
    }
   ],
   "source": [
    "len(os.listdir(jpg_path))"
   ]
  },
  {
   "cell_type": "markdown",
   "id": "a5dd55ee-090d-4841-bb32-d62316db2f2c",
   "metadata": {},
   "source": [
    "## Moving Files to tf_obj_files"
   ]
  },
  {
   "cell_type": "code",
   "execution_count": 50,
   "id": "91792512-fe43-4f16-a9df-c394887fe492",
   "metadata": {},
   "outputs": [
    {
     "data": {
      "text/html": [
       "<div>\n",
       "<style scoped>\n",
       "    .dataframe tbody tr th:only-of-type {\n",
       "        vertical-align: middle;\n",
       "    }\n",
       "\n",
       "    .dataframe tbody tr th {\n",
       "        vertical-align: top;\n",
       "    }\n",
       "\n",
       "    .dataframe thead th {\n",
       "        text-align: right;\n",
       "    }\n",
       "</style>\n",
       "<table border=\"1\" class=\"dataframe\">\n",
       "  <thead>\n",
       "    <tr style=\"text-align: right;\">\n",
       "      <th></th>\n",
       "      <th>set</th>\n",
       "      <th>Image_Index</th>\n",
       "    </tr>\n",
       "  </thead>\n",
       "  <tbody>\n",
       "    <tr>\n",
       "      <th>0</th>\n",
       "      <td>TRAINING</td>\n",
       "      <td>00012299_002.png</td>\n",
       "    </tr>\n",
       "    <tr>\n",
       "      <th>1</th>\n",
       "      <td>TRAINING</td>\n",
       "      <td>00019861_010.png</td>\n",
       "    </tr>\n",
       "    <tr>\n",
       "      <th>2</th>\n",
       "      <td>TRAINING</td>\n",
       "      <td>00003394_006.png</td>\n",
       "    </tr>\n",
       "    <tr>\n",
       "      <th>3</th>\n",
       "      <td>TRAINING</td>\n",
       "      <td>00025686_000.png</td>\n",
       "    </tr>\n",
       "    <tr>\n",
       "      <th>4</th>\n",
       "      <td>TRAINING</td>\n",
       "      <td>00021132_000.png</td>\n",
       "    </tr>\n",
       "    <tr>\n",
       "      <th>...</th>\n",
       "      <td>...</td>\n",
       "      <td>...</td>\n",
       "    </tr>\n",
       "    <tr>\n",
       "      <th>977</th>\n",
       "      <td>TEST</td>\n",
       "      <td>00019706_002.png</td>\n",
       "    </tr>\n",
       "    <tr>\n",
       "      <th>978</th>\n",
       "      <td>TEST</td>\n",
       "      <td>00018686_000.png</td>\n",
       "    </tr>\n",
       "    <tr>\n",
       "      <th>980</th>\n",
       "      <td>TEST</td>\n",
       "      <td>00012415_002.png</td>\n",
       "    </tr>\n",
       "    <tr>\n",
       "      <th>981</th>\n",
       "      <td>TEST</td>\n",
       "      <td>00012636_000.png</td>\n",
       "    </tr>\n",
       "    <tr>\n",
       "      <th>982</th>\n",
       "      <td>TEST</td>\n",
       "      <td>00007735_018.png</td>\n",
       "    </tr>\n",
       "  </tbody>\n",
       "</table>\n",
       "<p>880 rows × 2 columns</p>\n",
       "</div>"
      ],
      "text/plain": [
       "          set       Image_Index\n",
       "0    TRAINING  00012299_002.png\n",
       "1    TRAINING  00019861_010.png\n",
       "2    TRAINING  00003394_006.png\n",
       "3    TRAINING  00025686_000.png\n",
       "4    TRAINING  00021132_000.png\n",
       "..        ...               ...\n",
       "977      TEST  00019706_002.png\n",
       "978      TEST  00018686_000.png\n",
       "980      TEST  00012415_002.png\n",
       "981      TEST  00012636_000.png\n",
       "982      TEST  00007735_018.png\n",
       "\n",
       "[880 rows x 2 columns]"
      ]
     },
     "execution_count": 50,
     "metadata": {},
     "output_type": "execute_result"
    }
   ],
   "source": [
    "splits_df = pd.read_csv('./auto_ml_nih.csv', header=None)\n",
    "splits_df = splits_df[[0, 1]]\n",
    "splits_df[1] = splits_df[1].apply(lambda x : x.split(\"/\")[-1])\n",
    "splits_df.columns = ['set', 'Image_Index']\n",
    "splits_df = splits_df.drop_duplicates('Image_Index')\n",
    "splits_df"
   ]
  },
  {
   "cell_type": "code",
   "execution_count": 51,
   "id": "70a38633-96b0-4dc7-9c3e-d8074f2f5820",
   "metadata": {},
   "outputs": [],
   "source": [
    "# Checking on intersections\n",
    "train_set = splits_df.query(\"set == 'TRAINING'\")\n",
    "eval_set = splits_df.query(\"set == 'VALIDATION'\")\n",
    "test_set = splits_df.query(\"set == 'TEST'\")\n",
    "\n",
    "train_set = set(train_set['Image_Index'].values.tolist())\n",
    "eval_set = set(eval_set['Image_Index'].values.tolist())\n",
    "test_set = set(test_set['Image_Index'].values.tolist())"
   ]
  },
  {
   "cell_type": "code",
   "execution_count": 52,
   "id": "e77fa922-2094-4a7a-8374-fcbb14329bbc",
   "metadata": {},
   "outputs": [
    {
     "data": {
      "text/plain": [
       "set()"
      ]
     },
     "execution_count": 52,
     "metadata": {},
     "output_type": "execute_result"
    }
   ],
   "source": [
    "train_set.intersection(eval_set)"
   ]
  },
  {
   "cell_type": "code",
   "execution_count": 53,
   "id": "8c8e41cd-19f0-4698-9ddf-9aaa613f713d",
   "metadata": {},
   "outputs": [
    {
     "data": {
      "text/plain": [
       "set()"
      ]
     },
     "execution_count": 53,
     "metadata": {},
     "output_type": "execute_result"
    }
   ],
   "source": [
    "train_set.intersection(test_set)"
   ]
  },
  {
   "cell_type": "code",
   "execution_count": 54,
   "id": "602dbe30-a0e2-4c52-a6b0-353ae66644c4",
   "metadata": {},
   "outputs": [
    {
     "data": {
      "text/plain": [
       "set()"
      ]
     },
     "execution_count": 54,
     "metadata": {},
     "output_type": "execute_result"
    }
   ],
   "source": [
    "test_set.intersection(eval_set)"
   ]
  },
  {
   "cell_type": "code",
   "execution_count": 55,
   "id": "cba25ff7-28bf-48e4-8009-24d644312e9f",
   "metadata": {},
   "outputs": [
    {
     "data": {
      "text/html": [
       "<div>\n",
       "<style scoped>\n",
       "    .dataframe tbody tr th:only-of-type {\n",
       "        vertical-align: middle;\n",
       "    }\n",
       "\n",
       "    .dataframe tbody tr th {\n",
       "        vertical-align: top;\n",
       "    }\n",
       "\n",
       "    .dataframe thead th {\n",
       "        text-align: right;\n",
       "    }\n",
       "</style>\n",
       "<table border=\"1\" class=\"dataframe\">\n",
       "  <thead>\n",
       "    <tr style=\"text-align: right;\">\n",
       "      <th></th>\n",
       "      <th>set</th>\n",
       "      <th>Image_Index</th>\n",
       "      <th>Target</th>\n",
       "      <th>x</th>\n",
       "      <th>y</th>\n",
       "      <th>w</th>\n",
       "      <th>h</th>\n",
       "      <th>path</th>\n",
       "      <th>jpg_path</th>\n",
       "      <th>fake_path</th>\n",
       "    </tr>\n",
       "  </thead>\n",
       "  <tbody>\n",
       "    <tr>\n",
       "      <th>0</th>\n",
       "      <td>TRAINING</td>\n",
       "      <td>00012299_002.png</td>\n",
       "      <td>Atelectasis</td>\n",
       "      <td>195.527118</td>\n",
       "      <td>575.905191</td>\n",
       "      <td>658.773333</td>\n",
       "      <td>79.644444</td>\n",
       "      <td>../../nih_data_vol/images_006/images/00012299_...</td>\n",
       "      <td>../../nih_data_vol/bbox_images_jpgs/00012299_0...</td>\n",
       "      <td>/home/tensorflow/aeolux2/nih_data_vol/bbox_ima...</td>\n",
       "    </tr>\n",
       "    <tr>\n",
       "      <th>1</th>\n",
       "      <td>TRAINING</td>\n",
       "      <td>00019861_010.png</td>\n",
       "      <td>Cardiomegaly</td>\n",
       "      <td>269.815873</td>\n",
       "      <td>357.587302</td>\n",
       "      <td>534.213757</td>\n",
       "      <td>396.596825</td>\n",
       "      <td>../../nih_data_vol/images_009/images/00019861_...</td>\n",
       "      <td>../../nih_data_vol/bbox_images_jpgs/00019861_0...</td>\n",
       "      <td>/home/tensorflow/aeolux2/nih_data_vol/bbox_ima...</td>\n",
       "    </tr>\n",
       "    <tr>\n",
       "      <th>2</th>\n",
       "      <td>TRAINING</td>\n",
       "      <td>00003394_006.png</td>\n",
       "      <td>Cardiomegaly</td>\n",
       "      <td>312.949153</td>\n",
       "      <td>375.629386</td>\n",
       "      <td>441.491525</td>\n",
       "      <td>303.728814</td>\n",
       "      <td>../../nih_data_vol/images_002/images/00003394_...</td>\n",
       "      <td>../../nih_data_vol/bbox_images_jpgs/00003394_0...</td>\n",
       "      <td>/home/tensorflow/aeolux2/nih_data_vol/bbox_ima...</td>\n",
       "    </tr>\n",
       "    <tr>\n",
       "      <th>3</th>\n",
       "      <td>TRAINING</td>\n",
       "      <td>00025686_000.png</td>\n",
       "      <td>Effusion</td>\n",
       "      <td>596.764444</td>\n",
       "      <td>670.473490</td>\n",
       "      <td>332.231111</td>\n",
       "      <td>104.675556</td>\n",
       "      <td>../../nih_data_vol/images_011/images/00025686_...</td>\n",
       "      <td>../../nih_data_vol/bbox_images_jpgs/00025686_0...</td>\n",
       "      <td>/home/tensorflow/aeolux2/nih_data_vol/bbox_ima...</td>\n",
       "    </tr>\n",
       "    <tr>\n",
       "      <th>4</th>\n",
       "      <td>TRAINING</td>\n",
       "      <td>00021132_000.png</td>\n",
       "      <td>Effusion</td>\n",
       "      <td>705.422222</td>\n",
       "      <td>204.800000</td>\n",
       "      <td>160.372487</td>\n",
       "      <td>475.699471</td>\n",
       "      <td>../../nih_data_vol/images_010/images/00021132_...</td>\n",
       "      <td>../../nih_data_vol/bbox_images_jpgs/00021132_0...</td>\n",
       "      <td>/home/tensorflow/aeolux2/nih_data_vol/bbox_ima...</td>\n",
       "    </tr>\n",
       "    <tr>\n",
       "      <th>...</th>\n",
       "      <td>...</td>\n",
       "      <td>...</td>\n",
       "      <td>...</td>\n",
       "      <td>...</td>\n",
       "      <td>...</td>\n",
       "      <td>...</td>\n",
       "      <td>...</td>\n",
       "      <td>...</td>\n",
       "      <td>...</td>\n",
       "      <td>...</td>\n",
       "    </tr>\n",
       "    <tr>\n",
       "      <th>1211</th>\n",
       "      <td>TEST</td>\n",
       "      <td>00019706_002.png</td>\n",
       "      <td>Pneumothorax</td>\n",
       "      <td>576.474074</td>\n",
       "      <td>89.938624</td>\n",
       "      <td>152.787302</td>\n",
       "      <td>119.195767</td>\n",
       "      <td>../../nih_data_vol/images_009/images/00019706_...</td>\n",
       "      <td>../../nih_data_vol/bbox_images_jpgs/00019706_0...</td>\n",
       "      <td>/home/tensorflow/aeolux2/nih_data_vol/bbox_ima...</td>\n",
       "    </tr>\n",
       "    <tr>\n",
       "      <th>1212</th>\n",
       "      <td>TEST</td>\n",
       "      <td>00018686_000.png</td>\n",
       "      <td>Cardiomegaly</td>\n",
       "      <td>353.252910</td>\n",
       "      <td>307.741799</td>\n",
       "      <td>497.371429</td>\n",
       "      <td>452.943915</td>\n",
       "      <td>../../nih_data_vol/images_009/images/00018686_...</td>\n",
       "      <td>../../nih_data_vol/bbox_images_jpgs/00018686_0...</td>\n",
       "      <td>/home/tensorflow/aeolux2/nih_data_vol/bbox_ima...</td>\n",
       "    </tr>\n",
       "    <tr>\n",
       "      <th>1213</th>\n",
       "      <td>TEST</td>\n",
       "      <td>00012415_002.png</td>\n",
       "      <td>Nodule</td>\n",
       "      <td>398.764021</td>\n",
       "      <td>534.213757</td>\n",
       "      <td>74.768254</td>\n",
       "      <td>86.687831</td>\n",
       "      <td>../../nih_data_vol/images_006/images/00012415_...</td>\n",
       "      <td>../../nih_data_vol/bbox_images_jpgs/00012415_0...</td>\n",
       "      <td>/home/tensorflow/aeolux2/nih_data_vol/bbox_ima...</td>\n",
       "    </tr>\n",
       "    <tr>\n",
       "      <th>1214</th>\n",
       "      <td>TEST</td>\n",
       "      <td>00012636_000.png</td>\n",
       "      <td>Atelectasis</td>\n",
       "      <td>775.856085</td>\n",
       "      <td>532.046561</td>\n",
       "      <td>119.195767</td>\n",
       "      <td>69.350265</td>\n",
       "      <td>../../nih_data_vol/images_006/images/00012636_...</td>\n",
       "      <td>../../nih_data_vol/bbox_images_jpgs/00012636_0...</td>\n",
       "      <td>/home/tensorflow/aeolux2/nih_data_vol/bbox_ima...</td>\n",
       "    </tr>\n",
       "    <tr>\n",
       "      <th>1215</th>\n",
       "      <td>TEST</td>\n",
       "      <td>00007735_018.png</td>\n",
       "      <td>Pneumonia</td>\n",
       "      <td>584.059259</td>\n",
       "      <td>421.519577</td>\n",
       "      <td>209.134392</td>\n",
       "      <td>295.822222</td>\n",
       "      <td>../../nih_data_vol/images_004/images/00007735_...</td>\n",
       "      <td>../../nih_data_vol/bbox_images_jpgs/00007735_0...</td>\n",
       "      <td>/home/tensorflow/aeolux2/nih_data_vol/bbox_ima...</td>\n",
       "    </tr>\n",
       "  </tbody>\n",
       "</table>\n",
       "<p>1216 rows × 10 columns</p>\n",
       "</div>"
      ],
      "text/plain": [
       "           set       Image_Index        Target           x           y  \\\n",
       "0     TRAINING  00012299_002.png   Atelectasis  195.527118  575.905191   \n",
       "1     TRAINING  00019861_010.png  Cardiomegaly  269.815873  357.587302   \n",
       "2     TRAINING  00003394_006.png  Cardiomegaly  312.949153  375.629386   \n",
       "3     TRAINING  00025686_000.png      Effusion  596.764444  670.473490   \n",
       "4     TRAINING  00021132_000.png      Effusion  705.422222  204.800000   \n",
       "...        ...               ...           ...         ...         ...   \n",
       "1211      TEST  00019706_002.png  Pneumothorax  576.474074   89.938624   \n",
       "1212      TEST  00018686_000.png  Cardiomegaly  353.252910  307.741799   \n",
       "1213      TEST  00012415_002.png        Nodule  398.764021  534.213757   \n",
       "1214      TEST  00012636_000.png   Atelectasis  775.856085  532.046561   \n",
       "1215      TEST  00007735_018.png     Pneumonia  584.059259  421.519577   \n",
       "\n",
       "               w           h  \\\n",
       "0     658.773333   79.644444   \n",
       "1     534.213757  396.596825   \n",
       "2     441.491525  303.728814   \n",
       "3     332.231111  104.675556   \n",
       "4     160.372487  475.699471   \n",
       "...          ...         ...   \n",
       "1211  152.787302  119.195767   \n",
       "1212  497.371429  452.943915   \n",
       "1213   74.768254   86.687831   \n",
       "1214  119.195767   69.350265   \n",
       "1215  209.134392  295.822222   \n",
       "\n",
       "                                                   path  \\\n",
       "0     ../../nih_data_vol/images_006/images/00012299_...   \n",
       "1     ../../nih_data_vol/images_009/images/00019861_...   \n",
       "2     ../../nih_data_vol/images_002/images/00003394_...   \n",
       "3     ../../nih_data_vol/images_011/images/00025686_...   \n",
       "4     ../../nih_data_vol/images_010/images/00021132_...   \n",
       "...                                                 ...   \n",
       "1211  ../../nih_data_vol/images_009/images/00019706_...   \n",
       "1212  ../../nih_data_vol/images_009/images/00018686_...   \n",
       "1213  ../../nih_data_vol/images_006/images/00012415_...   \n",
       "1214  ../../nih_data_vol/images_006/images/00012636_...   \n",
       "1215  ../../nih_data_vol/images_004/images/00007735_...   \n",
       "\n",
       "                                               jpg_path  \\\n",
       "0     ../../nih_data_vol/bbox_images_jpgs/00012299_0...   \n",
       "1     ../../nih_data_vol/bbox_images_jpgs/00019861_0...   \n",
       "2     ../../nih_data_vol/bbox_images_jpgs/00003394_0...   \n",
       "3     ../../nih_data_vol/bbox_images_jpgs/00025686_0...   \n",
       "4     ../../nih_data_vol/bbox_images_jpgs/00021132_0...   \n",
       "...                                                 ...   \n",
       "1211  ../../nih_data_vol/bbox_images_jpgs/00019706_0...   \n",
       "1212  ../../nih_data_vol/bbox_images_jpgs/00018686_0...   \n",
       "1213  ../../nih_data_vol/bbox_images_jpgs/00012415_0...   \n",
       "1214  ../../nih_data_vol/bbox_images_jpgs/00012636_0...   \n",
       "1215  ../../nih_data_vol/bbox_images_jpgs/00007735_0...   \n",
       "\n",
       "                                              fake_path  \n",
       "0     /home/tensorflow/aeolux2/nih_data_vol/bbox_ima...  \n",
       "1     /home/tensorflow/aeolux2/nih_data_vol/bbox_ima...  \n",
       "2     /home/tensorflow/aeolux2/nih_data_vol/bbox_ima...  \n",
       "3     /home/tensorflow/aeolux2/nih_data_vol/bbox_ima...  \n",
       "4     /home/tensorflow/aeolux2/nih_data_vol/bbox_ima...  \n",
       "...                                                 ...  \n",
       "1211  /home/tensorflow/aeolux2/nih_data_vol/bbox_ima...  \n",
       "1212  /home/tensorflow/aeolux2/nih_data_vol/bbox_ima...  \n",
       "1213  /home/tensorflow/aeolux2/nih_data_vol/bbox_ima...  \n",
       "1214  /home/tensorflow/aeolux2/nih_data_vol/bbox_ima...  \n",
       "1215  /home/tensorflow/aeolux2/nih_data_vol/bbox_ima...  \n",
       "\n",
       "[1216 rows x 10 columns]"
      ]
     },
     "execution_count": 55,
     "metadata": {},
     "output_type": "execute_result"
    }
   ],
   "source": [
    "big_splits_df = splits_df.merge(label_df, on='Image_Index')\n",
    "big_splits_df"
   ]
  },
  {
   "cell_type": "code",
   "execution_count": 63,
   "id": "0852f369-193a-4dc6-a866-f3ea0a743715",
   "metadata": {},
   "outputs": [
    {
     "data": {
      "text/html": [
       "<div>\n",
       "<style scoped>\n",
       "    .dataframe tbody tr th:only-of-type {\n",
       "        vertical-align: middle;\n",
       "    }\n",
       "\n",
       "    .dataframe tbody tr th {\n",
       "        vertical-align: top;\n",
       "    }\n",
       "\n",
       "    .dataframe thead th {\n",
       "        text-align: right;\n",
       "    }\n",
       "</style>\n",
       "<table border=\"1\" class=\"dataframe\">\n",
       "  <thead>\n",
       "    <tr style=\"text-align: right;\">\n",
       "      <th></th>\n",
       "      <th>set</th>\n",
       "      <th>Image_Index</th>\n",
       "      <th>Target</th>\n",
       "      <th>x</th>\n",
       "      <th>y</th>\n",
       "      <th>w</th>\n",
       "      <th>h</th>\n",
       "      <th>path</th>\n",
       "      <th>jpg_path</th>\n",
       "      <th>fake_path</th>\n",
       "    </tr>\n",
       "  </thead>\n",
       "  <tbody>\n",
       "    <tr>\n",
       "      <th>859</th>\n",
       "      <td>TRAINING</td>\n",
       "      <td>00000032_037.png</td>\n",
       "      <td>Infiltrate</td>\n",
       "      <td>339.166138</td>\n",
       "      <td>119.195767</td>\n",
       "      <td>172.292063</td>\n",
       "      <td>351.085714</td>\n",
       "      <td>../../nih_data_vol/images_001/images/00000032_...</td>\n",
       "      <td>../../nih_data_vol/bbox_images_jpgs/00000032_0...</td>\n",
       "      <td>/home/tensorflow/aeolux2/nih_data_vol/bbox_ima...</td>\n",
       "    </tr>\n",
       "  </tbody>\n",
       "</table>\n",
       "</div>"
      ],
      "text/plain": [
       "          set       Image_Index      Target           x           y  \\\n",
       "859  TRAINING  00000032_037.png  Infiltrate  339.166138  119.195767   \n",
       "\n",
       "              w           h  \\\n",
       "859  172.292063  351.085714   \n",
       "\n",
       "                                                  path  \\\n",
       "859  ../../nih_data_vol/images_001/images/00000032_...   \n",
       "\n",
       "                                              jpg_path  \\\n",
       "859  ../../nih_data_vol/bbox_images_jpgs/00000032_0...   \n",
       "\n",
       "                                             fake_path  \n",
       "859  /home/tensorflow/aeolux2/nih_data_vol/bbox_ima...  "
      ]
     },
     "execution_count": 63,
     "metadata": {},
     "output_type": "execute_result"
    }
   ],
   "source": [
    "big_splits_df.query(\"Image_Index == '00000032_037.png'\")"
   ]
  },
  {
   "cell_type": "code",
   "execution_count": 59,
   "id": "10c15f94-234e-42f3-b3d7-0197e47ddad2",
   "metadata": {},
   "outputs": [
    {
     "name": "stderr",
     "output_type": "stream",
     "text": [
      "1216it [00:02, 567.16it/s]\n"
     ]
    }
   ],
   "source": [
    "from shutil import copyfile\n",
    "\n",
    "nih_tf_path = '../../nih_data_vol/tf_obj_files/'\n",
    "xml_path = '../../nih_data_vol/pascal_labels/'\n",
    "tf_obj_paths = {\n",
    "    'TRAINING': (os.path.join(nih_tf_path, 'train'), os.path.join(nih_tf_path, 'train_labels')),\n",
    "    'VALIDATION': (os.path.join(nih_tf_path, 'eval'), os.path.join(nih_tf_path, 'eval_labels')),\n",
    "    'VALIDATE': (os.path.join(nih_tf_path, 'eval'), os.path.join(nih_tf_path, 'eval_labels')),\n",
    "    'TEST': (os.path.join(nih_tf_path, 'test'), os.path.join(nih_tf_path, 'test_labels'))\n",
    "}\n",
    "\n",
    "for index, data_row in tqdm(big_splits_df.iterrows()):\n",
    "    dataset = data_row['set']\n",
    "    img_path = data_row['jpg_path']\n",
    "    img_name = data_row['Image_Index'].split(\".\")[0]\n",
    "    img_xml_path = os.path.join(xml_path, img_name + '.xml')\n",
    "    \n",
    "    assert os.path.isfile(img_path), \"Couldn't find jpg\"\n",
    "    assert os.path.isfile(img_xml_path), \"Couldn't find xml\"\n",
    "    \n",
    "    copy_data_path, copy_label_path = tf_obj_paths[dataset]\n",
    "    copyfile(img_path, os.path.join(copy_data_path, img_name + \".jpg\"))\n",
    "    copyfile(img_xml_path, os.path.join(copy_label_path, img_name + \".xml\"))"
   ]
  },
  {
   "cell_type": "code",
   "execution_count": 60,
   "id": "fe050da0-d263-4515-ba1c-099d86a9d028",
   "metadata": {},
   "outputs": [
    {
     "data": {
      "text/html": [
       "<div>\n",
       "<style scoped>\n",
       "    .dataframe tbody tr th:only-of-type {\n",
       "        vertical-align: middle;\n",
       "    }\n",
       "\n",
       "    .dataframe tbody tr th {\n",
       "        vertical-align: top;\n",
       "    }\n",
       "\n",
       "    .dataframe thead th {\n",
       "        text-align: right;\n",
       "    }\n",
       "</style>\n",
       "<table border=\"1\" class=\"dataframe\">\n",
       "  <thead>\n",
       "    <tr style=\"text-align: right;\">\n",
       "      <th></th>\n",
       "      <th>Image_Index</th>\n",
       "    </tr>\n",
       "    <tr>\n",
       "      <th>set</th>\n",
       "      <th></th>\n",
       "    </tr>\n",
       "  </thead>\n",
       "  <tbody>\n",
       "    <tr>\n",
       "      <th>TEST</th>\n",
       "      <td>158</td>\n",
       "    </tr>\n",
       "    <tr>\n",
       "      <th>TRAINING</th>\n",
       "      <td>584</td>\n",
       "    </tr>\n",
       "    <tr>\n",
       "      <th>VALIDATION</th>\n",
       "      <td>138</td>\n",
       "    </tr>\n",
       "  </tbody>\n",
       "</table>\n",
       "</div>"
      ],
      "text/plain": [
       "            Image_Index\n",
       "set                    \n",
       "TEST                158\n",
       "TRAINING            584\n",
       "VALIDATION          138"
      ]
     },
     "execution_count": 60,
     "metadata": {},
     "output_type": "execute_result"
    }
   ],
   "source": [
    "splits_df.groupby('set').count()"
   ]
  },
  {
   "cell_type": "code",
   "execution_count": 61,
   "id": "e088a211-5e2c-45ea-bae1-2ac35843cb0b",
   "metadata": {},
   "outputs": [
    {
     "name": "stdout",
     "output_type": "stream",
     "text": [
      "TRAINING 584 584\n",
      "VALIDATION 138 138\n",
      "VALIDATE 138 138\n",
      "TEST 158 158\n"
     ]
    }
   ],
   "source": [
    "for k, (tf_data_path, tf_label_path) in tf_obj_paths.items():\n",
    "    print(k, len(os.listdir(tf_data_path)), len(os.listdir(tf_label_path)))"
   ]
  },
  {
   "cell_type": "code",
   "execution_count": null,
   "id": "7b7d0598-2d33-478a-9ff2-66c6676dc908",
   "metadata": {},
   "outputs": [],
   "source": []
  }
 ],
 "metadata": {
  "kernelspec": {
   "display_name": "Python 3",
   "language": "python",
   "name": "python3"
  },
  "language_info": {
   "codemirror_mode": {
    "name": "ipython",
    "version": 3
   },
   "file_extension": ".py",
   "mimetype": "text/x-python",
   "name": "python",
   "nbconvert_exporter": "python",
   "pygments_lexer": "ipython3",
   "version": "3.7.10"
  }
 },
 "nbformat": 4,
 "nbformat_minor": 5
}
