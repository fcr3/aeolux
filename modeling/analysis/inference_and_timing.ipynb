{
 "cells": [
  {
   "cell_type": "markdown",
   "id": "secure-polish",
   "metadata": {},
   "source": [
    "# Inference and Timing\n",
    "This notebook goes over how to do inference using the model from torchxrayvision and yolov5m. Additionally, you can use this notebook as a way to assess timings"
   ]
  },
  {
   "cell_type": "code",
   "execution_count": null,
   "id": "wooden-cambridge",
   "metadata": {},
   "outputs": [],
   "source": [
    "import torch\n",
    "import torchxrayvision as xrv\n",
    "import os\n",
    "\n",
    "os.environ['CUDA_VISIBLE_DEVICES'] = \"\" # Comment this for GPU"
   ]
  },
  {
   "cell_type": "code",
   "execution_count": null,
   "id": "eligible-southwest",
   "metadata": {},
   "outputs": [],
   "source": [
    "torch.cuda.is_available()"
   ]
  },
  {
   "cell_type": "markdown",
   "id": "neutral-parker",
   "metadata": {},
   "source": [
    "Notice that this pulls weights from the `app/backend/models` folder. Please make sure to follow the prerequisites before continuing on with this notebook."
   ]
  },
  {
   "cell_type": "code",
   "execution_count": null,
   "id": "alpha-johns",
   "metadata": {},
   "outputs": [],
   "source": [
    "wgts = '../../app/backend/models/torch_models/yolov5/weights/best.pt'\n",
    "model_yolo = torch.hub.load('ultralytics/yolov5', 'custom', path=wgts, force_reload=True)\n",
    "model_xrv = xrv.models.DenseNet(weights='all').cpu() # Remove .cpu() for GPU "
   ]
  },
  {
   "cell_type": "code",
   "execution_count": null,
   "id": "black-spending",
   "metadata": {},
   "outputs": [],
   "source": [
    "import numpy as np\n",
    "from PIL import Image, ImageOps\n",
    "import matplotlib.pyplot as plt\n",
    "import warnings\n",
    "warnings.filterwarnings('ignore')"
   ]
  },
  {
   "cell_type": "code",
   "execution_count": null,
   "id": "suspended-intervention",
   "metadata": {},
   "outputs": [],
   "source": [
    "def load_image_into_numpy_array(path, gray=False):\n",
    "    if gray:\n",
    "        img = Image.open(path)\n",
    "        img = ImageOps.grayscale(img)\n",
    "        rgbimg = img.resize((224, 224))\n",
    "    else:\n",
    "        img = Image.open(path).resize((512, 512))\n",
    "        rgbimg = Image.new(\"RGB\", img.size)\n",
    "        rgbimg.paste(img)\n",
    "    return np.array(rgbimg), rgbimg"
   ]
  },
  {
   "cell_type": "code",
   "execution_count": null,
   "id": "ethical-deadline",
   "metadata": {},
   "outputs": [],
   "source": [
    "sample, sample_pil = load_image_into_numpy_array(\n",
    "    '../../examples/example1.jpg'\n",
    ")\n",
    "\n",
    "sample_gray, sample_pil_gray = load_image_into_numpy_array(\n",
    "    '../../examples/example1.jpg',\n",
    "    gray=True\n",
    ")"
   ]
  },
  {
   "cell_type": "code",
   "execution_count": null,
   "id": "congressional-worthy",
   "metadata": {},
   "outputs": [],
   "source": [
    "%matplotlib inline"
   ]
  },
  {
   "cell_type": "code",
   "execution_count": null,
   "id": "informed-commander",
   "metadata": {},
   "outputs": [],
   "source": [
    "plt.imshow(sample)\n",
    "plt.show()"
   ]
  },
  {
   "cell_type": "code",
   "execution_count": null,
   "id": "absent-amino",
   "metadata": {},
   "outputs": [],
   "source": [
    "plt.imshow(sample_gray)\n",
    "plt.show()"
   ]
  },
  {
   "cell_type": "code",
   "execution_count": null,
   "id": "fifth-peripheral",
   "metadata": {},
   "outputs": [],
   "source": [
    "sample.shape, sample_gray.shape"
   ]
  },
  {
   "cell_type": "markdown",
   "id": "entire-wells",
   "metadata": {},
   "source": [
    "Change the `batch` to whatever you like!"
   ]
  },
  {
   "cell_type": "code",
   "execution_count": null,
   "id": "domestic-slave",
   "metadata": {},
   "outputs": [],
   "source": [
    "batch = 5\n",
    "tensor_xrv = torch.from_numpy(np.array([sample_gray[np.newaxis, :]] * batch)).float()\n",
    "tensor_yolo = [sample] * batch"
   ]
  },
  {
   "cell_type": "code",
   "execution_count": null,
   "id": "incorporated-offset",
   "metadata": {},
   "outputs": [],
   "source": [
    "len(tensor_yolo), tensor_yolo[0].shape, tensor_xrv.shape"
   ]
  },
  {
   "cell_type": "markdown",
   "id": "numerous-boxing",
   "metadata": {},
   "source": [
    "Feel free to comment one of the executions out to see the timings per model. Also edit the `iters` variable to whatever you like!"
   ]
  },
  {
   "cell_type": "code",
   "execution_count": null,
   "id": "derived-benchmark",
   "metadata": {},
   "outputs": [],
   "source": [
    "from time import time\n",
    "from tqdm import tqdm\n",
    "\n",
    "iters = 100\n",
    "\n",
    "total_time = 0\n",
    "for _ in tqdm(range(iters), total=iters):\n",
    "    t1 = time()\n",
    "    out = model_xrv(tensor_xrv)\n",
    "    out = model_yolo(tensor_yolo, size=512, augment=True)\n",
    "    t2 = time()\n",
    "    total_time += t2 - t1\n",
    "\n",
    "total_time / iters # Average Time of Batch Inference"
   ]
  },
  {
   "cell_type": "code",
   "execution_count": null,
   "id": "southeast-corps",
   "metadata": {},
   "outputs": [],
   "source": [
    "iters / total_time # FPS"
   ]
  },
  {
   "cell_type": "markdown",
   "id": "documentary-milan",
   "metadata": {},
   "source": [
    "## Results\n",
    "\n",
    "### XRV\n",
    "<b>CPU (Suspicious on this CPU Time. Seems similar to GPU)</b>\n",
    "```\n",
    "1  images => 00.18 seconds\n",
    "5  images => 00.65 seconds\n",
    "10 images => 01.36 seconds\n",
    "20 images => 02.67 seconds\n",
    "40 images => 5.24 seconds\n",
    "```\n",
    "\n",
    "<b>GPU</b>\n",
    "```\n",
    "1  images => 00.14 seconds\n",
    "5  images => 00.60 seconds\n",
    "10 images => 01.26 seconds\n",
    "20 images => 02.34 seconds\n",
    "40 images => 04.92 seconds\n",
    "```\n",
    "\n",
    "### Yolov5m\n",
    "<b>CPU</b>\n",
    "```\n",
    "1  images => 00.52 seconds\n",
    "5  images => 01.90 seconds\n",
    "10 images => 03.91 seconds\n",
    "20 images => 08.77 seconds\n",
    "40 images => 17.88 seconds\n",
    "```\n",
    "\n",
    "<b>GPU</b>\n",
    "```\n",
    "1  images => 00.10 seconds\n",
    "5  images => 00.23 seconds\n",
    "10 images => 00.52 seconds\n",
    "20 images => 00.83 seconds\n",
    "40 images => 01.93 seconds\n",
    "```\n",
    "\n",
    "### XRV, then Yolov5m\n",
    "<b>CPU</b>\n",
    "```\n",
    "1  images => 00.68 seconds\n",
    "5  images => 02.60 seconds\n",
    "10 images => 05.00 seconds\n",
    "20 images => 11.19 seconds\n",
    "40 images => 24.54 seconds\n",
    "```\n",
    "\n",
    "<b>GPU</b>\n",
    "```\n",
    "1  images => 00.21 seconds\n",
    "5  images => 00.80 seconds\n",
    "10 images => 01.48 seconds\n",
    "20 images => 02.92 seconds\n",
    "40 images => 06.20 seconds\n",
    "```"
   ]
  }
 ],
 "metadata": {
  "kernelspec": {
   "display_name": "Python 3",
   "language": "python",
   "name": "python3"
  },
  "language_info": {
   "codemirror_mode": {
    "name": "ipython",
    "version": 3
   },
   "file_extension": ".py",
   "mimetype": "text/x-python",
   "name": "python",
   "nbconvert_exporter": "python",
   "pygments_lexer": "ipython3",
   "version": "3.7.9"
  }
 },
 "nbformat": 4,
 "nbformat_minor": 5
}
