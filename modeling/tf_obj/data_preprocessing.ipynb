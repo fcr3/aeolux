{
 "cells": [
  {
   "cell_type": "code",
   "execution_count": 1,
   "id": "imperial-complex",
   "metadata": {},
   "outputs": [],
   "source": [
    "import pydicom\n",
    "import numpy\n",
    "import os\n",
    "import matplotlib.pyplot as plt\n",
    "import pandas as pd"
   ]
  },
  {
   "cell_type": "markdown",
   "id": "signed-sullivan",
   "metadata": {},
   "source": [
    "# Preprocessing Notebook\n",
    "\n",
    "Here is a notebook to help with data preprocessing. This uses the RSNA competition data. Link to competition data: https://www.kaggle.com/c/rsna-pneumonia-detection-challenge/data\n",
    "\n",
    "## Displaying Data\n",
    "\n",
    "I'll go through a series of steps on how to display dcm data and its associated bounding box(es)."
   ]
  },
  {
   "cell_type": "code",
   "execution_count": 2,
   "id": "bored-yorkshire",
   "metadata": {
    "tags": []
   },
   "outputs": [
    {
     "data": {
      "text/plain": [
       "['../data_vol/datasets/stage_2_train_images/52f85606-4bd6-4947-bb43-fd2d4d1147c2.dcm',\n",
       " '../data_vol/datasets/stage_2_train_images/45f6f998-f783-4c40-b4dc-4bef22f4c503.dcm',\n",
       " '../data_vol/datasets/stage_2_train_images/f7b6c4f3-b7ea-43e5-a4b8-8e893e877ccd.dcm',\n",
       " '../data_vol/datasets/stage_2_train_images/3ca2df03-90ad-41e0-acfb-0e9dca100607.dcm',\n",
       " '../data_vol/datasets/stage_2_train_images/9e7bd306-471d-4c5c-aa53-a9d24e0779bc.dcm']"
      ]
     },
     "execution_count": 2,
     "metadata": {},
     "output_type": "execute_result"
    }
   ],
   "source": [
    "base_folder = '../data_vol/datasets/stage_2_train_images/'\n",
    "data_files = os.listdir(base_folder)\n",
    "data_files = [base_folder + file for file in data_files]\n",
    "data_files[:5]"
   ]
  },
  {
   "cell_type": "markdown",
   "id": "productive-corruption",
   "metadata": {},
   "source": [
    "Lets display one of these files."
   ]
  },
  {
   "cell_type": "code",
   "execution_count": 3,
   "id": "institutional-restoration",
   "metadata": {},
   "outputs": [
    {
     "name": "stdout",
     "output_type": "stream",
     "text": [
      "1\n"
     ]
    }
   ],
   "source": [
    "sample_files = [f for f in data_files if '00436515-870c-4b36-a041-de91049b9ab4' in f]\n",
    "sample_dcm = pydicom.dcmread(sample_files[0])\n",
    "print(len(sample_files))"
   ]
  },
  {
   "cell_type": "code",
   "execution_count": 4,
   "id": "operational-speed",
   "metadata": {
    "scrolled": true,
    "tags": []
   },
   "outputs": [
    {
     "data": {
      "text/plain": [
       "Dataset.file_meta -------------------------------\n",
       "(0002, 0000) File Meta Information Group Length  UL: 200\n",
       "(0002, 0001) File Meta Information Version       OB: b'\\x00\\x01'\n",
       "(0002, 0002) Media Storage SOP Class UID         UI: Secondary Capture Image Storage\n",
       "(0002, 0003) Media Storage SOP Instance UID      UI: 1.2.276.0.7230010.3.1.4.8323329.6379.1517874325.469569\n",
       "(0002, 0010) Transfer Syntax UID                 UI: JPEG Baseline (Process 1)\n",
       "(0002, 0012) Implementation Class UID            UI: 1.2.276.0.7230010.3.0.3.6.0\n",
       "(0002, 0013) Implementation Version Name         SH: 'OFFIS_DCMTK_360'\n",
       "-------------------------------------------------\n",
       "(0008, 0005) Specific Character Set              CS: 'ISO_IR 100'\n",
       "(0008, 0016) SOP Class UID                       UI: Secondary Capture Image Storage\n",
       "(0008, 0018) SOP Instance UID                    UI: 1.2.276.0.7230010.3.1.4.8323329.6379.1517874325.469569\n",
       "(0008, 0020) Study Date                          DA: '19010101'\n",
       "(0008, 0030) Study Time                          TM: '000000.00'\n",
       "(0008, 0050) Accession Number                    SH: ''\n",
       "(0008, 0060) Modality                            CS: 'CR'\n",
       "(0008, 0064) Conversion Type                     CS: 'WSD'\n",
       "(0008, 0090) Referring Physician's Name          PN: ''\n",
       "(0008, 103e) Series Description                  LO: 'view: AP'\n",
       "(0010, 0010) Patient's Name                      PN: '00436515-870c-4b36-a041-de91049b9ab4'\n",
       "(0010, 0020) Patient ID                          LO: '00436515-870c-4b36-a041-de91049b9ab4'\n",
       "(0010, 0030) Patient's Birth Date                DA: ''\n",
       "(0010, 0040) Patient's Sex                       CS: 'F'\n",
       "(0010, 1010) Patient's Age                       AS: '32'\n",
       "(0018, 0015) Body Part Examined                  CS: 'CHEST'\n",
       "(0018, 5101) View Position                       CS: 'AP'\n",
       "(0020, 000d) Study Instance UID                  UI: 1.2.276.0.7230010.3.1.2.8323329.6379.1517874325.469568\n",
       "(0020, 000e) Series Instance UID                 UI: 1.2.276.0.7230010.3.1.3.8323329.6379.1517874325.469567\n",
       "(0020, 0010) Study ID                            SH: ''\n",
       "(0020, 0011) Series Number                       IS: \"1\"\n",
       "(0020, 0013) Instance Number                     IS: \"1\"\n",
       "(0020, 0020) Patient Orientation                 CS: ''\n",
       "(0028, 0002) Samples per Pixel                   US: 1\n",
       "(0028, 0004) Photometric Interpretation          CS: 'MONOCHROME2'\n",
       "(0028, 0010) Rows                                US: 1024\n",
       "(0028, 0011) Columns                             US: 1024\n",
       "(0028, 0030) Pixel Spacing                       DS: [0.139, 0.139]\n",
       "(0028, 0100) Bits Allocated                      US: 8\n",
       "(0028, 0101) Bits Stored                         US: 8\n",
       "(0028, 0102) High Bit                            US: 7\n",
       "(0028, 0103) Pixel Representation                US: 0\n",
       "(0028, 2110) Lossy Image Compression             CS: '01'\n",
       "(0028, 2114) Lossy Image Compression Method      CS: 'ISO_10918_1'\n",
       "(7fe0, 0010) Pixel Data                          OB: Array of 119382 elements"
      ]
     },
     "execution_count": 4,
     "metadata": {},
     "output_type": "execute_result"
    }
   ],
   "source": [
    "sample_dcm"
   ]
  },
  {
   "cell_type": "code",
   "execution_count": 5,
   "id": "raising-subcommittee",
   "metadata": {},
   "outputs": [
    {
     "data": {
      "text/plain": [
       "(1024, 1024)"
      ]
     },
     "execution_count": 5,
     "metadata": {},
     "output_type": "execute_result"
    }
   ],
   "source": [
    "sample_dcm.Rows, sample_dcm.Columns"
   ]
  },
  {
   "cell_type": "code",
   "execution_count": 6,
   "id": "aggressive-johnson",
   "metadata": {},
   "outputs": [
    {
     "data": {
      "image/png": "[encoded data removed]",
      "text/plain": [
       "<Figure size 432x288 with 1 Axes>"
      ]
     },
     "metadata": {
      "needs_background": "light"
     },
     "output_type": "display_data"
    }
   ],
   "source": [
    "sample_dcm_arr = sample_dcm.pixel_array\n",
    "plt.imshow(sample_dcm_arr, cmap=plt.cm.bone)\n",
    "plt.show()"
   ]
  },
  {
   "cell_type": "code",
   "execution_count": 7,
   "id": "fantastic-steel",
   "metadata": {},
   "outputs": [
    {
     "data": {
      "text/plain": [
       "(1024, 1024)"
      ]
     },
     "execution_count": 7,
     "metadata": {},
     "output_type": "execute_result"
    }
   ],
   "source": [
    "sample_dcm_arr.shape"
   ]
  },
  {
   "cell_type": "markdown",
   "id": "silver-headline",
   "metadata": {},
   "source": [
    "Lets get the label for this image and display it."
   ]
  },
  {
   "cell_type": "code",
   "execution_count": 8,
   "id": "adaptive-newman",
   "metadata": {},
   "outputs": [
    {
     "data": {
      "text/html": [
       "<div>\n",
       "<style scoped>\n",
       "    .dataframe tbody tr th:only-of-type {\n",
       "        vertical-align: middle;\n",
       "    }\n",
       "\n",
       "    .dataframe tbody tr th {\n",
       "        vertical-align: top;\n",
       "    }\n",
       "\n",
       "    .dataframe thead th {\n",
       "        text-align: right;\n",
       "    }\n",
       "</style>\n",
       "<table border=\"1\" class=\"dataframe\">\n",
       "  <thead>\n",
       "    <tr style=\"text-align: right;\">\n",
       "      <th></th>\n",
       "      <th>patientId</th>\n",
       "      <th>x</th>\n",
       "      <th>y</th>\n",
       "      <th>width</th>\n",
       "      <th>height</th>\n",
       "      <th>Target</th>\n",
       "    </tr>\n",
       "  </thead>\n",
       "  <tbody>\n",
       "    <tr>\n",
       "      <th>4</th>\n",
       "      <td>00436515-870c-4b36-a041-de91049b9ab4</td>\n",
       "      <td>264.0</td>\n",
       "      <td>152.0</td>\n",
       "      <td>213.0</td>\n",
       "      <td>379.0</td>\n",
       "      <td>1</td>\n",
       "    </tr>\n",
       "    <tr>\n",
       "      <th>5</th>\n",
       "      <td>00436515-870c-4b36-a041-de91049b9ab4</td>\n",
       "      <td>562.0</td>\n",
       "      <td>152.0</td>\n",
       "      <td>256.0</td>\n",
       "      <td>453.0</td>\n",
       "      <td>1</td>\n",
       "    </tr>\n",
       "    <tr>\n",
       "      <th>8</th>\n",
       "      <td>00704310-78a8-4b38-8475-49f4573b2dbb</td>\n",
       "      <td>323.0</td>\n",
       "      <td>577.0</td>\n",
       "      <td>160.0</td>\n",
       "      <td>104.0</td>\n",
       "      <td>1</td>\n",
       "    </tr>\n",
       "    <tr>\n",
       "      <th>9</th>\n",
       "      <td>00704310-78a8-4b38-8475-49f4573b2dbb</td>\n",
       "      <td>695.0</td>\n",
       "      <td>575.0</td>\n",
       "      <td>162.0</td>\n",
       "      <td>137.0</td>\n",
       "      <td>1</td>\n",
       "    </tr>\n",
       "    <tr>\n",
       "      <th>14</th>\n",
       "      <td>00aecb01-a116-45a2-956c-08d2fa55433f</td>\n",
       "      <td>288.0</td>\n",
       "      <td>322.0</td>\n",
       "      <td>94.0</td>\n",
       "      <td>135.0</td>\n",
       "      <td>1</td>\n",
       "    </tr>\n",
       "  </tbody>\n",
       "</table>\n",
       "</div>"
      ],
      "text/plain": [
       "                               patientId      x      y  width  height  Target\n",
       "4   00436515-870c-4b36-a041-de91049b9ab4  264.0  152.0  213.0   379.0       1\n",
       "5   00436515-870c-4b36-a041-de91049b9ab4  562.0  152.0  256.0   453.0       1\n",
       "8   00704310-78a8-4b38-8475-49f4573b2dbb  323.0  577.0  160.0   104.0       1\n",
       "9   00704310-78a8-4b38-8475-49f4573b2dbb  695.0  575.0  162.0   137.0       1\n",
       "14  00aecb01-a116-45a2-956c-08d2fa55433f  288.0  322.0   94.0   135.0       1"
      ]
     },
     "execution_count": 8,
     "metadata": {},
     "output_type": "execute_result"
    }
   ],
   "source": [
    "base_folder_labels = '../data_vol/datasets/stage_2_train_labels.csv'\n",
    "label_df = pd.read_csv(base_folder_labels)\n",
    "bbox_label_df = label_df.query(\"Target == 1\")\n",
    "bbox_label_df.head()"
   ]
  },
  {
   "cell_type": "code",
   "execution_count": 9,
   "id": "searching-iceland",
   "metadata": {},
   "outputs": [
    {
     "data": {
      "text/html": [
       "<div>\n",
       "<style scoped>\n",
       "    .dataframe tbody tr th:only-of-type {\n",
       "        vertical-align: middle;\n",
       "    }\n",
       "\n",
       "    .dataframe tbody tr th {\n",
       "        vertical-align: top;\n",
       "    }\n",
       "\n",
       "    .dataframe thead th {\n",
       "        text-align: right;\n",
       "    }\n",
       "</style>\n",
       "<table border=\"1\" class=\"dataframe\">\n",
       "  <thead>\n",
       "    <tr style=\"text-align: right;\">\n",
       "      <th></th>\n",
       "      <th>patientId</th>\n",
       "      <th>x</th>\n",
       "      <th>y</th>\n",
       "      <th>width</th>\n",
       "      <th>height</th>\n",
       "      <th>Target</th>\n",
       "    </tr>\n",
       "  </thead>\n",
       "  <tbody>\n",
       "    <tr>\n",
       "      <th>4</th>\n",
       "      <td>00436515-870c-4b36-a041-de91049b9ab4</td>\n",
       "      <td>264.0</td>\n",
       "      <td>152.0</td>\n",
       "      <td>213.0</td>\n",
       "      <td>379.0</td>\n",
       "      <td>1</td>\n",
       "    </tr>\n",
       "    <tr>\n",
       "      <th>5</th>\n",
       "      <td>00436515-870c-4b36-a041-de91049b9ab4</td>\n",
       "      <td>562.0</td>\n",
       "      <td>152.0</td>\n",
       "      <td>256.0</td>\n",
       "      <td>453.0</td>\n",
       "      <td>1</td>\n",
       "    </tr>\n",
       "  </tbody>\n",
       "</table>\n",
       "</div>"
      ],
      "text/plain": [
       "                              patientId      x      y  width  height  Target\n",
       "4  00436515-870c-4b36-a041-de91049b9ab4  264.0  152.0  213.0   379.0       1\n",
       "5  00436515-870c-4b36-a041-de91049b9ab4  562.0  152.0  256.0   453.0       1"
      ]
     },
     "execution_count": 9,
     "metadata": {},
     "output_type": "execute_result"
    }
   ],
   "source": [
    "sample_id = '00436515-870c-4b36-a041-de91049b9ab4'\n",
    "sample_bbox = bbox_label_df.query(f\"patientId == '{sample_id}'\")\n",
    "sample_bbox"
   ]
  },
  {
   "cell_type": "code",
   "execution_count": 10,
   "id": "completed-basement",
   "metadata": {},
   "outputs": [
    {
     "data": {
      "text/plain": [
       "array([[264., 152., 213., 379.],\n",
       "       [562., 152., 256., 453.]])"
      ]
     },
     "execution_count": 10,
     "metadata": {},
     "output_type": "execute_result"
    }
   ],
   "source": [
    "bbox_coords = sample_bbox[['x', 'y', 'width', 'height']].values\n",
    "bbox_coords"
   ]
  },
  {
   "cell_type": "code",
   "execution_count": 11,
   "id": "independent-burden",
   "metadata": {},
   "outputs": [
    {
     "data": {
      "image/png": "[encoded data removed]",
      "text/plain": [
       "<Figure size 432x288 with 1 Axes>"
      ]
     },
     "metadata": {
      "needs_background": "light"
     },
     "output_type": "display_data"
    }
   ],
   "source": [
    "from matplotlib.patches import Rectangle\n",
    "\n",
    "plt.imshow(sample_dcm_arr, cmap=plt.cm.bone)\n",
    "ax = plt.gca()\n",
    "for bbox_coord in bbox_coords:\n",
    "    x, y, w, h = bbox_coord\n",
    "    rect = Rectangle((x, y), w, h, linewidth=1, edgecolor='r',facecolor='none')\n",
    "    ax.add_patch(rect)\n",
    "plt.show()"
   ]
  },
  {
   "cell_type": "markdown",
   "id": "charged-coffee",
   "metadata": {},
   "source": [
    "Display other relevant label data"
   ]
  },
  {
   "cell_type": "code",
   "execution_count": 12,
   "id": "changed-sense",
   "metadata": {},
   "outputs": [
    {
     "data": {
      "text/html": [
       "<div>\n",
       "<style scoped>\n",
       "    .dataframe tbody tr th:only-of-type {\n",
       "        vertical-align: middle;\n",
       "    }\n",
       "\n",
       "    .dataframe tbody tr th {\n",
       "        vertical-align: top;\n",
       "    }\n",
       "\n",
       "    .dataframe thead th {\n",
       "        text-align: right;\n",
       "    }\n",
       "</style>\n",
       "<table border=\"1\" class=\"dataframe\">\n",
       "  <thead>\n",
       "    <tr style=\"text-align: right;\">\n",
       "      <th></th>\n",
       "      <th>patientId</th>\n",
       "      <th>class</th>\n",
       "    </tr>\n",
       "  </thead>\n",
       "  <tbody>\n",
       "    <tr>\n",
       "      <th>0</th>\n",
       "      <td>0004cfab-14fd-4e49-80ba-63a80b6bddd6</td>\n",
       "      <td>No Lung Opacity / Not Normal</td>\n",
       "    </tr>\n",
       "    <tr>\n",
       "      <th>1</th>\n",
       "      <td>00313ee0-9eaa-42f4-b0ab-c148ed3241cd</td>\n",
       "      <td>No Lung Opacity / Not Normal</td>\n",
       "    </tr>\n",
       "    <tr>\n",
       "      <th>2</th>\n",
       "      <td>00322d4d-1c29-4943-afc9-b6754be640eb</td>\n",
       "      <td>No Lung Opacity / Not Normal</td>\n",
       "    </tr>\n",
       "    <tr>\n",
       "      <th>3</th>\n",
       "      <td>003d8fa0-6bf1-40ed-b54c-ac657f8495c5</td>\n",
       "      <td>Normal</td>\n",
       "    </tr>\n",
       "    <tr>\n",
       "      <th>4</th>\n",
       "      <td>00436515-870c-4b36-a041-de91049b9ab4</td>\n",
       "      <td>Lung Opacity</td>\n",
       "    </tr>\n",
       "  </tbody>\n",
       "</table>\n",
       "</div>"
      ],
      "text/plain": [
       "                              patientId                         class\n",
       "0  0004cfab-14fd-4e49-80ba-63a80b6bddd6  No Lung Opacity / Not Normal\n",
       "1  00313ee0-9eaa-42f4-b0ab-c148ed3241cd  No Lung Opacity / Not Normal\n",
       "2  00322d4d-1c29-4943-afc9-b6754be640eb  No Lung Opacity / Not Normal\n",
       "3  003d8fa0-6bf1-40ed-b54c-ac657f8495c5                        Normal\n",
       "4  00436515-870c-4b36-a041-de91049b9ab4                  Lung Opacity"
      ]
     },
     "execution_count": 12,
     "metadata": {},
     "output_type": "execute_result"
    }
   ],
   "source": [
    "base_folder_metalabels = '../data_vol/datasets/stage_2_detailed_class_info.csv'\n",
    "metalabel_df = pd.read_csv(base_folder_metalabels)\n",
    "metalabel_df.head()"
   ]
  },
  {
   "cell_type": "code",
   "execution_count": 13,
   "id": "compact-presence",
   "metadata": {},
   "outputs": [
    {
     "data": {
      "text/html": [
       "<div>\n",
       "<style scoped>\n",
       "    .dataframe tbody tr th:only-of-type {\n",
       "        vertical-align: middle;\n",
       "    }\n",
       "\n",
       "    .dataframe tbody tr th {\n",
       "        vertical-align: top;\n",
       "    }\n",
       "\n",
       "    .dataframe thead th {\n",
       "        text-align: right;\n",
       "    }\n",
       "</style>\n",
       "<table border=\"1\" class=\"dataframe\">\n",
       "  <thead>\n",
       "    <tr style=\"text-align: right;\">\n",
       "      <th></th>\n",
       "      <th>patientId</th>\n",
       "      <th>class</th>\n",
       "    </tr>\n",
       "  </thead>\n",
       "  <tbody>\n",
       "    <tr>\n",
       "      <th>4</th>\n",
       "      <td>00436515-870c-4b36-a041-de91049b9ab4</td>\n",
       "      <td>Lung Opacity</td>\n",
       "    </tr>\n",
       "    <tr>\n",
       "      <th>5</th>\n",
       "      <td>00436515-870c-4b36-a041-de91049b9ab4</td>\n",
       "      <td>Lung Opacity</td>\n",
       "    </tr>\n",
       "  </tbody>\n",
       "</table>\n",
       "</div>"
      ],
      "text/plain": [
       "                              patientId         class\n",
       "4  00436515-870c-4b36-a041-de91049b9ab4  Lung Opacity\n",
       "5  00436515-870c-4b36-a041-de91049b9ab4  Lung Opacity"
      ]
     },
     "execution_count": 13,
     "metadata": {},
     "output_type": "execute_result"
    }
   ],
   "source": [
    "metalabel_df.query(f\"patientId == '{sample_id}'\")"
   ]
  },
  {
   "cell_type": "code",
   "execution_count": 14,
   "id": "desirable-antique",
   "metadata": {},
   "outputs": [
    {
     "data": {
      "text/plain": [
       "array(['No Lung Opacity / Not Normal', 'Normal', 'Lung Opacity'],\n",
       "      dtype=object)"
      ]
     },
     "execution_count": 14,
     "metadata": {},
     "output_type": "execute_result"
    }
   ],
   "source": [
    "metalabel_df['class'].unique()"
   ]
  },
  {
   "cell_type": "markdown",
   "id": "formed-pavilion",
   "metadata": {},
   "source": [
    "Merging tables for more descriptive metadata"
   ]
  },
  {
   "cell_type": "code",
   "execution_count": 15,
   "id": "wrong-annotation",
   "metadata": {},
   "outputs": [
    {
     "data": {
      "text/plain": [
       "array(['Lung Opacity'], dtype=object)"
      ]
     },
     "execution_count": 15,
     "metadata": {},
     "output_type": "execute_result"
    }
   ],
   "source": [
    "label_df.merge(metalabel_df, on='patientId').query('Target == 1')['class'].unique()"
   ]
  },
  {
   "cell_type": "markdown",
   "id": "large-tobacco",
   "metadata": {},
   "source": [
    "## Making JPGS out of DCMs"
   ]
  },
  {
   "cell_type": "code",
   "execution_count": 16,
   "id": "combined-negotiation",
   "metadata": {},
   "outputs": [],
   "source": [
    "import cv2\n",
    "from tqdm import tqdm"
   ]
  },
  {
   "cell_type": "code",
   "execution_count": 17,
   "id": "generic-aruba",
   "metadata": {},
   "outputs": [
    {
     "data": {
      "text/plain": [
       "26684"
      ]
     },
     "execution_count": 17,
     "metadata": {},
     "output_type": "execute_result"
    }
   ],
   "source": [
    "jpg_folder_path = '../data_vol/data/data_jpgs/'\n",
    "len(os.listdir(jpg_folder_path))"
   ]
  },
  {
   "cell_type": "code",
   "execution_count": 18,
   "id": "respected-plain",
   "metadata": {
    "tags": []
   },
   "outputs": [],
   "source": [
    "if len(os.listdir(jpg_folder_path)) == 0:\n",
    "    folder_path = '../datasets/stage_2_train_images/'\n",
    "    images_path = os.listdir('../datasets/stage_2_train_images/')\n",
    "\n",
    "    for n, image in tqdm(enumerate(images_path)):\n",
    "        ds = pydicom.dcmread(os.path.join(folder_path, image))\n",
    "        pixel_array_numpy = ds.pixel_array\n",
    "        image = image.replace('.dcm', '.jpg')\n",
    "\n",
    "        cv2.imwrite(os.path.join(jpg_folder_path, image), pixel_array_numpy)"
   ]
  },
  {
   "cell_type": "code",
   "execution_count": null,
   "id": "attempted-premiere",
   "metadata": {},
   "outputs": [],
   "source": []
  },
  {
   "cell_type": "code",
   "execution_count": null,
   "id": "unexpected-equilibrium",
   "metadata": {},
   "outputs": [],
   "source": [
    "if len(os.listdir(jpg_folder_path)) == 0:\n",
    "    folder_path = '../datasets/stage_2_train_images/'\n",
    "    images_path = os.listdir('../datasets/stage_2_train_images/')\n",
    "\n",
    "    for n, image in tqdm(enumerate(images_path)):\n",
    "        ds = pydicom.dcmread(os.path.join(folder_path, image))\n",
    "        pixel_array_numpy = ds.pixel_array\n",
    "        image = image.replace('.dcm', '.jpg')\n",
    "\n",
    "        cv2.imwrite(os.path.join(jpg_folder_path, image), pixel_array_numpy)"
   ]
  },
  {
   "cell_type": "code",
   "execution_count": 19,
   "id": "graduate-significance",
   "metadata": {},
   "outputs": [],
   "source": [
    "# jpg_folder_path = '../filtered_datasets/data_jpgs_exist/'\n",
    "# len(os.listdir(jpg_folder_path))"
   ]
  },
  {
   "cell_type": "code",
   "execution_count": 20,
   "id": "legal-archive",
   "metadata": {},
   "outputs": [],
   "source": [
    "# if len(os.listdir(jpg_folder_path)) == 0:\n",
    "#     folder_path = '../datasets/stage_2_train_images/'\n",
    "#     images_path = os.listdir('../datasets/stage_2_train_images/')\n",
    "\n",
    "#     for n, image in tqdm(enumerate(images_path)):\n",
    "#         ds = pydicom.dcmread(os.path.join(folder_path, image))\n",
    "#         pixel_array_numpy = ds.pixel_array\n",
    "#         image = image.replace('.dcm', '.jpg')\n",
    "\n",
    "#         pid = image.split(\".\")[0]\n",
    "#         pid_df = label_df.query(f\"patientId == '{pid}'\")\n",
    "#         if pid_df['Target'].sum() == 0:\n",
    "#             continue\n",
    "        \n",
    "#         cv2.imwrite(os.path.join(jpg_folder_path, image), pixel_array_numpy)"
   ]
  },
  {
   "cell_type": "markdown",
   "id": "banner-browse",
   "metadata": {},
   "source": [
    "## PASCAL VOC Label Conversion\n",
    "\n",
    "It might be advantageous for us to convert our labels into PASCAL VOC label format. A typical example is as follows:\n",
    "\n",
    "```\n",
    "<annotation>\n",
    "\t<folder>GeneratedData_Train</folder>\n",
    "\t<filename>000001.png</filename>\n",
    "\t<path>/my/path/GeneratedData_Train/000001.png</path>\n",
    "\t<source>\n",
    "\t\t<database>Unknown</database>\n",
    "\t</source>\n",
    "\t<size>\n",
    "\t\t<width>224</width>\n",
    "\t\t<height>224</height>\n",
    "\t\t<depth>3</depth>\n",
    "\t</size>\n",
    "\t<segmented>0</segmented>\n",
    "\t<object>\n",
    "\t\t<name>21</name>\n",
    "\t\t<pose>Frontal</pose>\n",
    "\t\t<truncated>0</truncated>\n",
    "\t\t<difficult>0</difficult>\n",
    "\t\t<occluded>0</occluded>\n",
    "\t\t<bndbox>\n",
    "\t\t\t<xmin>82</xmin>\n",
    "\t\t\t<xmax>172</xmax>\n",
    "\t\t\t<ymin>88</ymin>\n",
    "\t\t\t<ymax>146</ymax>\n",
    "\t\t</bndbox>\n",
    "\t</object>\n",
    "</annotation>\n",
    "```\n",
    "\n",
    "An explanation of the fields can be found here: https://towardsdatascience.com/coco-data-format-for-object-detection-a4c5eaf518c5"
   ]
  },
  {
   "cell_type": "code",
   "execution_count": 79,
   "id": "concrete-tutorial",
   "metadata": {},
   "outputs": [],
   "source": [
    "def make_pascal_voc(src, folder, filename, bbox_coords, img_shape):\n",
    "    object_xml = ''\n",
    "    \n",
    "    def isNan(x):\n",
    "        return x != x\n",
    "    \n",
    "    for bbox_coord in bbox_coords:\n",
    "        x, y, w, h, target = bbox_coord\n",
    "        xmin, xmax, ymin, ymax = x, x + w, y, y + h\n",
    "        \n",
    "        if target == 0:\n",
    "            continue\n",
    "            \n",
    "        if xmin > xmax:\n",
    "            print(src)\n",
    "\n",
    "        object_xml += f\"\"\"\\n    <object>\n",
    "        <name>{target}</name>\n",
    "        <pose>Unspecified</pose>\n",
    "        <truncated>0</truncated>\n",
    "        <difficult>0</difficult>\n",
    "        <occluded>0</occluded>\n",
    "        <bndbox>\n",
    "            <xmin>{xmin}</xmin>\n",
    "            <ymin>{ymin}</ymin>\n",
    "            <xmax>{xmax}</xmax>\n",
    "            <ymax>{ymax}</ymax>\n",
    "        </bndbox>\n",
    "    </object>\"\"\"\n",
    "        \n",
    "    return f\"\"\"<annotation>\n",
    "    <folder>{folder}</folder>\n",
    "    <filename>{filename}</filename>\n",
    "    <path>{folder}/{filename}</path>\n",
    "    <source>\n",
    "        <database>{src}</database>\n",
    "    </source>\n",
    "    <size>\n",
    "        <width>{img_shape[0]}</width>\n",
    "        <height>{img_shape[1]}</height>\n",
    "        <depth>3</depth>\n",
    "    </size>\n",
    "    <segmented>0</segmented>{object_xml}\n",
    "</annotation>\"\"\""
   ]
  },
  {
   "cell_type": "code",
   "execution_count": 80,
   "id": "motivated-strengthening",
   "metadata": {},
   "outputs": [
    {
     "name": "stderr",
     "output_type": "stream",
     "text": [
      "30227it [00:02, 11463.78it/s]\n"
     ]
    }
   ],
   "source": [
    "from tqdm import tqdm\n",
    "\n",
    "pascal_voc_groups = {}\n",
    "for row in tqdm(label_df.iterrows()):\n",
    "    index, (pid, x, y, w, h, target) = row\n",
    "    if pid not in pascal_voc_groups:\n",
    "        pascal_voc_groups[pid] = []\n",
    "    pascal_voc_groups[pid].append((x, y, w, h, target))"
   ]
  },
  {
   "cell_type": "code",
   "execution_count": 81,
   "id": "under-venue",
   "metadata": {},
   "outputs": [
    {
     "data": {
      "text/plain": [
       "4"
      ]
     },
     "execution_count": 81,
     "metadata": {},
     "output_type": "execute_result"
    }
   ],
   "source": [
    "max([len(pascal_voc_groups[k]) for k in pascal_voc_groups.keys()])"
   ]
  },
  {
   "cell_type": "code",
   "execution_count": 82,
   "id": "honest-contribution",
   "metadata": {},
   "outputs": [
    {
     "name": "stderr",
     "output_type": "stream",
     "text": [
      "100%|██████████| 26684/26684 [00:25<00:00, 1047.29it/s]\n"
     ]
    }
   ],
   "source": [
    "from pathlib import Path\n",
    "\n",
    "\n",
    "abs_folder_path = str(Path('../data/data_jpgs/').absolute().resolve())\n",
    "for pid, data_row in tqdm(pascal_voc_groups.items()):\n",
    "    dcm_pid = pydicom.dcmread(base_folder + pid + '.dcm')\n",
    "    img_w, img_h = dcm_pid.Columns, dcm_pid.Rows\n",
    "    \n",
    "    if len(data_row) == 0:\n",
    "        continue\n",
    "    \n",
    "    pv_str = make_pascal_voc(\n",
    "        'kaggle_rsna',\n",
    "        abs_folder_path, \n",
    "        f'{pid}.jpg', \n",
    "        data_row, (img_w, img_h))\n",
    "    pv_filename = f'../data/pascal_voc_labels/{pid}.xml'\n",
    "    \n",
    "    with open(pv_filename, 'w') as f:\n",
    "        f.write(pv_str)"
   ]
  },
  {
   "cell_type": "code",
   "execution_count": 83,
   "id": "consolidated-china",
   "metadata": {},
   "outputs": [
    {
     "data": {
      "text/plain": [
       "(26684, 26684)"
      ]
     },
     "execution_count": 83,
     "metadata": {},
     "output_type": "execute_result"
    }
   ],
   "source": [
    "len(os.listdir('../data/data_jpgs/')), len(os.listdir('../data/pascal_voc_labels/'))"
   ]
  },
  {
   "cell_type": "code",
   "execution_count": 84,
   "id": "contrary-geography",
   "metadata": {},
   "outputs": [
    {
     "name": "stdout",
     "output_type": "stream",
     "text": [
      "<annotation>\n",
      "    <folder>/home/tensorflow/aeolux/data/data_jpgs</folder>\n",
      "    <filename>c1cf3255-d734-4980-bfe0-967902ad7ed9.jpg</filename>\n",
      "    <path>/home/tensorflow/aeolux/data/data_jpgs/c1cf3255-d734-4980-bfe0-967902ad7ed9.jpg</path>\n",
      "    <source>\n",
      "        <database>kaggle_rsna</database>\n",
      "    </source>\n",
      "    <size>\n",
      "        <width>1024</width>\n",
      "        <height>1024</height>\n",
      "        <depth>3</depth>\n",
      "    </size>\n",
      "    <segmented>0</segmented>\n",
      "</annotation>\n"
     ]
    }
   ],
   "source": [
    "# Checking contents of file without bounding boxes\n",
    "another_sample_pid2 = 'c1cf3255-d734-4980-bfe0-967902ad7ed9'\n",
    "with open(f'../data/pascal_voc_labels/{another_sample_pid2}.xml', 'r') as f:\n",
    "    file_content = f.read()\n",
    "print(file_content)"
   ]
  },
  {
   "cell_type": "code",
   "execution_count": 85,
   "id": "grateful-interaction",
   "metadata": {},
   "outputs": [
    {
     "name": "stdout",
     "output_type": "stream",
     "text": [
      "<annotation>\n",
      "    <folder>/home/tensorflow/aeolux/data/data_jpgs</folder>\n",
      "    <filename>bb4074e6-6327-44cd-b356-9ad42342e076.jpg</filename>\n",
      "    <path>/home/tensorflow/aeolux/data/data_jpgs/bb4074e6-6327-44cd-b356-9ad42342e076.jpg</path>\n",
      "    <source>\n",
      "        <database>kaggle_rsna</database>\n",
      "    </source>\n",
      "    <size>\n",
      "        <width>1024</width>\n",
      "        <height>1024</height>\n",
      "        <depth>3</depth>\n",
      "    </size>\n",
      "    <segmented>0</segmented>\n",
      "    <object>\n",
      "        <name>1</name>\n",
      "        <pose>Unspecified</pose>\n",
      "        <truncated>0</truncated>\n",
      "        <difficult>0</difficult>\n",
      "        <occluded>0</occluded>\n",
      "        <bndbox>\n",
      "            <xmin>238.0</xmin>\n",
      "            <ymin>535.0</ymin>\n",
      "            <xmax>488.0</xmax>\n",
      "            <ymax>826.0</ymax>\n",
      "        </bndbox>\n",
      "    </object>\n",
      "    <object>\n",
      "        <name>1</name>\n",
      "        <pose>Unspecified</pose>\n",
      "        <truncated>0</truncated>\n",
      "        <difficult>0</difficult>\n",
      "        <occluded>0</occluded>\n",
      "        <bndbox>\n",
      "            <xmin>647.0</xmin>\n",
      "            <ymin>539.0</ymin>\n",
      "            <xmax>882.0</xmax>\n",
      "            <ymax>876.0</ymax>\n",
      "        </bndbox>\n",
      "    </object>\n",
      "</annotation>\n"
     ]
    }
   ],
   "source": [
    "# Checking contents of file with bounding boxes\n",
    "another_sample_pid2 = 'bb4074e6-6327-44cd-b356-9ad42342e076'\n",
    "with open(f'../data/pascal_voc_labels/{another_sample_pid2}.xml', 'r') as f:\n",
    "    file_content = f.read()\n",
    "print(file_content)"
   ]
  },
  {
   "cell_type": "markdown",
   "id": "harmful-evening",
   "metadata": {},
   "source": [
    "## Train Test Split"
   ]
  },
  {
   "cell_type": "code",
   "execution_count": 184,
   "id": "psychological-fraud",
   "metadata": {},
   "outputs": [],
   "source": [
    "files = [f.split(\".\")[0] for f in os.listdir('../data/data_jpgs')]\n",
    "data_files = ['../data/data_jpgs/' + f + '.jpg' for f in files]"
   ]
  },
  {
   "cell_type": "code",
   "execution_count": 185,
   "id": "loaded-mistake",
   "metadata": {},
   "outputs": [
    {
     "data": {
      "text/plain": [
       "['../data/data_jpgs/953fa799-1ba9-4e45-b4b1-2c1c39966412.jpg',\n",
       " '../data/data_jpgs/a5e84175-0226-4ab6-a5be-fd6a7c07acf5.jpg',\n",
       " '../data/data_jpgs/65d3cef8-fecc-412f-94d8-d48292757f54.jpg',\n",
       " '../data/data_jpgs/315f5455-13e6-49bf-9531-1f747d4b18d1.jpg',\n",
       " '../data/data_jpgs/c9f3a54d-48f5-4268-9306-bb7885fd2618.jpg']"
      ]
     },
     "execution_count": 185,
     "metadata": {},
     "output_type": "execute_result"
    }
   ],
   "source": [
    "data_files[:5]"
   ]
  },
  {
   "cell_type": "code",
   "execution_count": 186,
   "id": "infinite-sacrifice",
   "metadata": {},
   "outputs": [
    {
     "data": {
      "text/plain": [
       "26684"
      ]
     },
     "execution_count": 186,
     "metadata": {},
     "output_type": "execute_result"
    }
   ],
   "source": [
    "len(data_files)"
   ]
  },
  {
   "cell_type": "code",
   "execution_count": 187,
   "id": "employed-recorder",
   "metadata": {},
   "outputs": [],
   "source": [
    "label_files = ['../data/pascal_voc_labels/' + f + '.xml' for f in files]"
   ]
  },
  {
   "cell_type": "code",
   "execution_count": 188,
   "id": "honest-drama",
   "metadata": {},
   "outputs": [
    {
     "data": {
      "text/plain": [
       "['../data/pascal_voc_labels/953fa799-1ba9-4e45-b4b1-2c1c39966412.xml',\n",
       " '../data/pascal_voc_labels/a5e84175-0226-4ab6-a5be-fd6a7c07acf5.xml',\n",
       " '../data/pascal_voc_labels/65d3cef8-fecc-412f-94d8-d48292757f54.xml',\n",
       " '../data/pascal_voc_labels/315f5455-13e6-49bf-9531-1f747d4b18d1.xml',\n",
       " '../data/pascal_voc_labels/c9f3a54d-48f5-4268-9306-bb7885fd2618.xml']"
      ]
     },
     "execution_count": 188,
     "metadata": {},
     "output_type": "execute_result"
    }
   ],
   "source": [
    "label_files[:5]"
   ]
  },
  {
   "cell_type": "code",
   "execution_count": 189,
   "id": "announced-detroit",
   "metadata": {},
   "outputs": [
    {
     "data": {
      "text/plain": [
       "26684"
      ]
     },
     "execution_count": 189,
     "metadata": {},
     "output_type": "execute_result"
    }
   ],
   "source": [
    "len(label_files)"
   ]
  },
  {
   "cell_type": "code",
   "execution_count": 190,
   "id": "fifth-oxygen",
   "metadata": {},
   "outputs": [],
   "source": [
    "from sklearn.model_selection import train_test_split\n",
    "\n",
    "x_train, x_test, y_train, y_test = train_test_split(\n",
    "    data_files, label_files, test_size=0.2, random_state=0\n",
    ")"
   ]
  },
  {
   "cell_type": "code",
   "execution_count": 191,
   "id": "primary-evans",
   "metadata": {},
   "outputs": [],
   "source": [
    "from shutil import copyfile"
   ]
  },
  {
   "cell_type": "code",
   "execution_count": 192,
   "id": "critical-drive",
   "metadata": {},
   "outputs": [
    {
     "name": "stderr",
     "output_type": "stream",
     "text": [
      "100%|██████████| 21347/21347 [00:04<00:00, 4546.47it/s]\n"
     ]
    }
   ],
   "source": [
    "for train_file, train_label in tqdm(zip(x_train, y_train), total=len(list(zip(x_train, y_train)))):\n",
    "    jpg = train_file.split(\"/\")[-1]\n",
    "    lbl = train_label.split(\"/\")[-1]\n",
    "    copyfile(train_file, '../data/train/' + jpg)\n",
    "    copyfile(train_label, '../data/train/' + lbl)"
   ]
  },
  {
   "cell_type": "code",
   "execution_count": 193,
   "id": "corresponding-guinea",
   "metadata": {},
   "outputs": [
    {
     "data": {
      "text/plain": [
       "(42694, 42694)"
      ]
     },
     "execution_count": 193,
     "metadata": {},
     "output_type": "execute_result"
    }
   ],
   "source": [
    "len(x_train) + len(y_train), len(os.listdir('../data/train'))"
   ]
  },
  {
   "cell_type": "code",
   "execution_count": 194,
   "id": "focal-traveler",
   "metadata": {},
   "outputs": [
    {
     "name": "stderr",
     "output_type": "stream",
     "text": [
      "100%|██████████| 5337/5337 [00:01<00:00, 4670.52it/s]\n"
     ]
    }
   ],
   "source": [
    "for test_file, test_label in tqdm(zip(x_test, y_test), total=len(list(zip(x_test, y_test)))):\n",
    "    jpg = test_file.split(\"/\")[-1]\n",
    "    lbl = test_label.split(\"/\")[-1]\n",
    "    copyfile(test_file, '../data/test/' + jpg)\n",
    "    copyfile(test_label, '../data/test/' + lbl)"
   ]
  },
  {
   "cell_type": "code",
   "execution_count": 195,
   "id": "catholic-redhead",
   "metadata": {},
   "outputs": [
    {
     "data": {
      "text/plain": [
       "(10674, 10674)"
      ]
     },
     "execution_count": 195,
     "metadata": {},
     "output_type": "execute_result"
    }
   ],
   "source": [
    "len(x_test) + len(y_test), len(os.listdir('../data/test'))"
   ]
  },
  {
   "cell_type": "code",
   "execution_count": 196,
   "id": "adapted-malta",
   "metadata": {},
   "outputs": [
    {
     "data": {
      "text/plain": [
       "[]"
      ]
     },
     "execution_count": 196,
     "metadata": {},
     "output_type": "execute_result"
    }
   ],
   "source": [
    "[f for f in os.listdir('../data/train') if '00aecb01-a116-45a2-956c-08d2fa55433f' in f]"
   ]
  },
  {
   "cell_type": "code",
   "execution_count": 197,
   "id": "union-beijing",
   "metadata": {},
   "outputs": [
    {
     "data": {
      "text/plain": [
       "['00aecb01-a116-45a2-956c-08d2fa55433f.xml',\n",
       " '00aecb01-a116-45a2-956c-08d2fa55433f.jpg']"
      ]
     },
     "execution_count": 197,
     "metadata": {},
     "output_type": "execute_result"
    }
   ],
   "source": [
    "[f for f in os.listdir('../data/test') if '00aecb01-a116-45a2-956c-08d2fa55433f' in f]"
   ]
  },
  {
   "cell_type": "markdown",
   "id": "educational-radius",
   "metadata": {},
   "source": [
    "## Conversion to TensorFlow Records"
   ]
  },
  {
   "cell_type": "code",
   "execution_count": 198,
   "id": "homeless-workshop",
   "metadata": {},
   "outputs": [],
   "source": [
    "import os\n",
    "import glob\n",
    "import pandas as pd\n",
    "import io\n",
    "import xml.etree.ElementTree as ET\n",
    "import argparse\n",
    "\n",
    "os.environ['TF_CPP_MIN_LOG_LEVEL'] = '2'\n",
    "import tensorflow.compat.v1 as tf\n",
    "from PIL import Image\n",
    "from object_detection.utils import dataset_util, label_map_util\n",
    "from collections import namedtuple"
   ]
  },
  {
   "cell_type": "code",
   "execution_count": 199,
   "id": "modified-novelty",
   "metadata": {},
   "outputs": [],
   "source": [
    "from types import SimpleNamespace"
   ]
  },
  {
   "cell_type": "code",
   "execution_count": 207,
   "id": "approved-invention",
   "metadata": {},
   "outputs": [],
   "source": [
    "args = SimpleNamespace()\n",
    "args.xml_dir = '../data/test'\n",
    "args.image_dir = '../data/test'\n",
    "args.csv_path = None\n",
    "args.labels_path = './label_map.pbtxt'\n",
    "args.output_path = '../data/test.record'"
   ]
  },
  {
   "cell_type": "code",
   "execution_count": 208,
   "id": "placed-principle",
   "metadata": {},
   "outputs": [],
   "source": [
    "label_map = label_map_util.load_labelmap(args.labels_path)\n",
    "label_map_dict = label_map_util.get_label_map_dict(label_map)"
   ]
  },
  {
   "cell_type": "code",
   "execution_count": 209,
   "id": "curious-proposition",
   "metadata": {},
   "outputs": [],
   "source": [
    "def xml_to_csv(path):\n",
    "    xml_list = []\n",
    "    for xml_file in glob.glob(path + '/*.xml'):\n",
    "        tree = ET.parse(xml_file)\n",
    "        root = tree.getroot()\n",
    "        for member in root.findall('object'):\n",
    "            value = (root.find('filename').text,\n",
    "                     int(root.find('size')[0].text),\n",
    "                     int(root.find('size')[1].text),\n",
    "                     member[0].text,\n",
    "                     int(float(member[5][0].text)),\n",
    "                     int(float(member[5][1].text)),\n",
    "                     int(float(member[5][2].text)),\n",
    "                     int(float(member[5][3].text))\n",
    "                     )\n",
    "            xml_list.append(value)\n",
    "    column_name = ['filename', 'width', 'height',\n",
    "                   'class', 'xmin', 'ymin', 'xmax', 'ymax']\n",
    "    xml_df = pd.DataFrame(xml_list, columns=column_name)\n",
    "    return xml_df"
   ]
  },
  {
   "cell_type": "code",
   "execution_count": 210,
   "id": "graduate-bidding",
   "metadata": {},
   "outputs": [],
   "source": [
    "def class_text_to_int(row_label):\n",
    "    return label_map_dict[row_label]"
   ]
  },
  {
   "cell_type": "code",
   "execution_count": 211,
   "id": "republican-secretariat",
   "metadata": {},
   "outputs": [],
   "source": [
    "def split(df, group):\n",
    "    data = namedtuple('data', ['filename', 'object'])\n",
    "    gb = df.groupby(group)\n",
    "    return [data(filename, gb.get_group(x)) for filename, x \n",
    "            in zip(gb.groups.keys(), gb.groups)]"
   ]
  },
  {
   "cell_type": "code",
   "execution_count": 212,
   "id": "linear-gamma",
   "metadata": {},
   "outputs": [],
   "source": [
    "def create_tf_example(group, path):\n",
    "    with tf.gfile.GFile(os.path.join(path, '{}'.format(group.filename)), 'rb') as fid:\n",
    "        encoded_jpg = fid.read()\n",
    "    encoded_jpg_io = io.BytesIO(encoded_jpg)\n",
    "    image = Image.open(encoded_jpg_io)\n",
    "    width, height = image.size\n",
    "\n",
    "    filename = group.filename.encode('utf8')\n",
    "    image_format = b'jpg'\n",
    "    xmins = []\n",
    "    xmaxs = []\n",
    "    ymins = []\n",
    "    ymaxs = []\n",
    "    classes_text = []\n",
    "    classes = []\n",
    "\n",
    "    for index, row in group.object.iterrows():\n",
    "        xmins.append(row['xmin'] / width)\n",
    "        xmaxs.append(row['xmax'] / width)\n",
    "        ymins.append(row['ymin'] / height)\n",
    "        ymaxs.append(row['ymax'] / height)\n",
    "        classes_text.append(row['class'].encode('utf8'))\n",
    "        classes.append(class_text_to_int(row['class']))\n",
    "\n",
    "    tf_example = tf.train.Example(features=tf.train.Features(feature={\n",
    "        'image/height': dataset_util.int64_feature(height),\n",
    "        'image/width': dataset_util.int64_feature(width),\n",
    "        'image/filename': dataset_util.bytes_feature(filename),\n",
    "        'image/source_id': dataset_util.bytes_feature(filename),\n",
    "        'image/encoded': dataset_util.bytes_feature(encoded_jpg),\n",
    "        'image/format': dataset_util.bytes_feature(image_format),\n",
    "        'image/object/bbox/xmin': dataset_util.float_list_feature(xmins),\n",
    "        'image/object/bbox/xmax': dataset_util.float_list_feature(xmaxs),\n",
    "        'image/object/bbox/ymin': dataset_util.float_list_feature(ymins),\n",
    "        'image/object/bbox/ymax': dataset_util.float_list_feature(ymaxs),\n",
    "        'image/object/class/text': dataset_util.bytes_list_feature(classes_text),\n",
    "        'image/object/class/label': dataset_util.int64_list_feature(classes),\n",
    "    }))\n",
    "    return tf_example"
   ]
  },
  {
   "cell_type": "code",
   "execution_count": 213,
   "id": "complete-anger",
   "metadata": {},
   "outputs": [
    {
     "name": "stdout",
     "output_type": "stream",
     "text": [
      "Successfully created the TFRecord file: ../data/test.record\n"
     ]
    }
   ],
   "source": [
    "writer = tf.python_io.TFRecordWriter(args.output_path)\n",
    "path = os.path.join(args.image_dir)\n",
    "examples = xml_to_csv(args.xml_dir)\n",
    "grouped = split(examples, 'filename')\n",
    "for group in grouped:\n",
    "    tf_example = create_tf_example(group, path)\n",
    "    writer.write(tf_example.SerializeToString())\n",
    "writer.close()\n",
    "print('Successfully created the TFRecord file: {}'.format(args.output_path))\n",
    "if args.csv_path is not None:\n",
    "    examples.to_csv(args.csv_path, index=None)\n",
    "    print('Successfully created the CSV file: {}'.format(args.csv_path))"
   ]
  },
  {
   "cell_type": "code",
   "execution_count": 152,
   "id": "fantastic-house",
   "metadata": {},
   "outputs": [
    {
     "data": {
      "text/plain": [
       "544.0"
      ]
     },
     "execution_count": 152,
     "metadata": {},
     "output_type": "execute_result"
    }
   ],
   "source": [
    "float('544.0')"
   ]
  },
  {
   "cell_type": "code",
   "execution_count": null,
   "id": "sought-nature",
   "metadata": {},
   "outputs": [],
   "source": []
  }
 ],
 "metadata": {
  "kernelspec": {
   "display_name": "Python 3",
   "language": "python",
   "name": "python3"
  },
  "language_info": {
   "codemirror_mode": {
    "name": "ipython",
    "version": 3
   },
   "file_extension": ".py",
   "mimetype": "text/x-python",
   "name": "python",
   "nbconvert_exporter": "python",
   "pygments_lexer": "ipython3",
   "version": "3.6.9"
  }
 },
 "nbformat": 4,
 "nbformat_minor": 5
}
