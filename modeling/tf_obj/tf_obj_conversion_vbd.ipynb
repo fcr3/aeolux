{
 "cells": [
  {
   "cell_type": "markdown",
   "id": "educational-radius",
   "metadata": {},
   "source": [
    "## Conversion to TensorFlow Records"
   ]
  },
  {
   "cell_type": "code",
   "execution_count": 1,
   "id": "homeless-workshop",
   "metadata": {},
   "outputs": [],
   "source": [
    "import os\n",
    "import glob\n",
    "import pandas as pd\n",
    "import io\n",
    "import xml.etree.ElementTree as ET\n",
    "import argparse\n",
    "\n",
    "os.environ['TF_CPP_MIN_LOG_LEVEL'] = '2'\n",
    "import tensorflow.compat.v1 as tf\n",
    "from PIL import Image\n",
    "from object_detection.utils import dataset_util, label_map_util\n",
    "from collections import namedtuple"
   ]
  },
  {
   "cell_type": "code",
   "execution_count": 2,
   "id": "modified-novelty",
   "metadata": {},
   "outputs": [],
   "source": [
    "from types import SimpleNamespace"
   ]
  },
  {
   "cell_type": "markdown",
   "id": "e43f0d1f-0bd6-4046-87a2-27dea1b92865",
   "metadata": {},
   "source": [
    "To use this notebook, change `dataset_type` to be one of the following: train, eval, test. Once you have done that, you can execute the other cells to generate the tf_records."
   ]
  },
  {
   "cell_type": "code",
   "execution_count": 24,
   "id": "approved-invention",
   "metadata": {},
   "outputs": [],
   "source": [
    "args = SimpleNamespace()\n",
    "dataset_type = 'train'\n",
    "args.xml_dir = f'../../vbd_vol/tf_obj_files/{dataset_type}_labels'\n",
    "args.image_dir = f'../../vbd_vol/tf_obj_files/{dataset_type}'\n",
    "args.csv_path = f'../../vbd_vol/tf_obj_files/{dataset_type}_table.csv'\n",
    "args.labels_path = '../../vbd_vol/tf_obj_files/label_map.pbtxt'\n",
    "args.output_path = f'../../vbd_vol/tf_obj_files/{dataset_type}.record'"
   ]
  },
  {
   "cell_type": "code",
   "execution_count": 25,
   "id": "placed-principle",
   "metadata": {},
   "outputs": [],
   "source": [
    "label_map = label_map_util.load_labelmap(args.labels_path)\n",
    "label_map_dict = label_map_util.get_label_map_dict(label_map)"
   ]
  },
  {
   "cell_type": "code",
   "execution_count": 26,
   "id": "curious-proposition",
   "metadata": {},
   "outputs": [],
   "source": [
    "def xml_to_csv(path):\n",
    "    xml_list = []\n",
    "    for xml_file in glob.glob(path + '/*.xml'):\n",
    "        tree = ET.parse(xml_file)\n",
    "        root = tree.getroot()\n",
    "        for member in root.findall('object'):\n",
    "            value = (root.find('filename').text,\n",
    "                     int(root.find('size')[0].text),\n",
    "                     int(root.find('size')[1].text),\n",
    "                     member[0].text,\n",
    "                     int(float(member[5][0].text)), # xmin\n",
    "                     int(float(member[5][1].text)), # xmax\n",
    "                     int(float(member[5][2].text)), # ymin\n",
    "                     int(float(member[5][3].text))  # ymax\n",
    "                     )\n",
    "            xml_list.append(value)\n",
    "    column_name = ['filename', 'width', 'height',\n",
    "                   'class', 'xmin', 'xmax', 'ymin', 'ymax']\n",
    "    xml_df = pd.DataFrame(xml_list, columns=column_name)\n",
    "    return xml_df"
   ]
  },
  {
   "cell_type": "code",
   "execution_count": 27,
   "id": "graduate-bidding",
   "metadata": {},
   "outputs": [],
   "source": [
    "def class_text_to_int(row_label):\n",
    "    return label_map_dict[row_label]"
   ]
  },
  {
   "cell_type": "code",
   "execution_count": 28,
   "id": "republican-secretariat",
   "metadata": {},
   "outputs": [],
   "source": [
    "def split(df, group):\n",
    "    data = namedtuple('data', ['filename', 'object'])\n",
    "    gb = df.groupby(group)\n",
    "    return [data(filename, gb.get_group(x)) for filename, x \n",
    "            in zip(gb.groups.keys(), gb.groups)]"
   ]
  },
  {
   "cell_type": "code",
   "execution_count": 29,
   "id": "linear-gamma",
   "metadata": {},
   "outputs": [],
   "source": [
    "def create_tf_example(group, path):\n",
    "    with tf.gfile.GFile(os.path.join(path, '{}'.format(group.filename)), 'rb') as fid:\n",
    "        encoded_jpg = fid.read()\n",
    "    encoded_jpg_io = io.BytesIO(encoded_jpg)\n",
    "    image = Image.open(encoded_jpg_io)\n",
    "    width, height = image.size\n",
    "\n",
    "    filename = group.filename.encode('utf8')\n",
    "    image_format = b'jpg'\n",
    "    xmins = []\n",
    "    xmaxs = []\n",
    "    ymins = []\n",
    "    ymaxs = []\n",
    "    classes_text = []\n",
    "    classes = []\n",
    "\n",
    "    for index, row in group.object.iterrows():\n",
    "        assert width == 1024 and height == 1024, f\"width={width}, height={height}\"\n",
    "        \n",
    "        assert row['xmin'] >= 0, f\"Weird xmin: index={index}, img={row['filename']}\"\n",
    "        assert row['ymin'] >= 0, f\"Weird ymin: index={index}, img={row['filename']}\"\n",
    "        assert row['xmax'] >= 0, f\"Weird xmax: index={index}, img={row['filename']}\"\n",
    "        assert row['ymax'] >= 0, f\"Weird ymax: index={index}, img={row['filename']}\"\n",
    "        \n",
    "        assert row['xmin'] / width <= 1, f\"oob xmin: index={index}, img={row['filename']}\"\n",
    "        assert row['ymin'] / height <= 1, f\"oob ymin: index={index}, img={row['filename']}\"\n",
    "        assert row['xmax'] / width <= 1, f\"oob xmax: index={index}, img={row['filename']}\"\n",
    "        assert row['ymax'] / height <= 1, f\"oob ymax: index={index}, img={row['filename']}\"\n",
    "        \n",
    "        assert row['xmin'] <= row['xmax'], f\"xmin > xmax: index={index}, img={row['filename']}\"\n",
    "        assert row['ymin'] <= row['ymax'], f\"ymin > ymax: index={index}, img={row['filename']}\"\n",
    "        \n",
    "        xmins.append(row['xmin'] / width)\n",
    "        xmaxs.append(row['xmax'] / width)\n",
    "        ymins.append(row['ymin'] / height)\n",
    "        ymaxs.append(row['ymax'] / height)\n",
    "        classes_text.append(row['class'].encode('utf8'))\n",
    "        classes.append(class_text_to_int(row['class']))\n",
    "\n",
    "    tf_example = tf.train.Example(features=tf.train.Features(feature={\n",
    "        'image/height': dataset_util.int64_feature(height),\n",
    "        'image/width': dataset_util.int64_feature(width),\n",
    "        'image/filename': dataset_util.bytes_feature(filename),\n",
    "        'image/source_id': dataset_util.bytes_feature(filename),\n",
    "        'image/encoded': dataset_util.bytes_feature(encoded_jpg),\n",
    "        'image/format': dataset_util.bytes_feature(image_format),\n",
    "        'image/object/bbox/xmin': dataset_util.float_list_feature(xmins),\n",
    "        'image/object/bbox/xmax': dataset_util.float_list_feature(xmaxs),\n",
    "        'image/object/bbox/ymin': dataset_util.float_list_feature(ymins),\n",
    "        'image/object/bbox/ymax': dataset_util.float_list_feature(ymaxs),\n",
    "        'image/object/class/text': dataset_util.bytes_list_feature(classes_text),\n",
    "        'image/object/class/label': dataset_util.int64_list_feature(classes),\n",
    "    }))\n",
    "    \n",
    "    # print(tf_example)\n",
    "    return tf_example"
   ]
  },
  {
   "cell_type": "code",
   "execution_count": 30,
   "id": "complete-anger",
   "metadata": {},
   "outputs": [
    {
     "name": "stdout",
     "output_type": "stream",
     "text": [
      "Successfully created the TFRecord file: ../../vbd_vol/tf_obj_files/train.record\n",
      "Successfully created the CSV file: ../../vbd_vol/tf_obj_files/train_table.csv\n"
     ]
    }
   ],
   "source": [
    "writer = tf.python_io.TFRecordWriter(args.output_path)\n",
    "path = os.path.join(args.image_dir)\n",
    "examples = xml_to_csv(args.xml_dir)\n",
    "grouped = split(examples, 'filename')\n",
    "for group in grouped:\n",
    "    tf_example = create_tf_example(group, path)\n",
    "    writer.write(tf_example.SerializeToString())\n",
    "writer.close()\n",
    "print('Successfully created the TFRecord file: {}'.format(args.output_path))\n",
    "if args.csv_path is not None:\n",
    "    examples.to_csv(args.csv_path, index=None)\n",
    "    print('Successfully created the CSV file: {}'.format(args.csv_path))"
   ]
  }
 ],
 "metadata": {
  "kernelspec": {
   "display_name": "Python 3",
   "language": "python",
   "name": "python3"
  },
  "language_info": {
   "codemirror_mode": {
    "name": "ipython",
    "version": 3
   },
   "file_extension": ".py",
   "mimetype": "text/x-python",
   "name": "python",
   "nbconvert_exporter": "python",
   "pygments_lexer": "ipython3",
   "version": "3.7.10"
  }
 },
 "nbformat": 4,
 "nbformat_minor": 5
}
